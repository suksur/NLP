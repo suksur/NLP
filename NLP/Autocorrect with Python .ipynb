{
 "cells": [
  {
   "cell_type": "code",
   "execution_count": null,
   "id": "0f299e92",
   "metadata": {},
   "outputs": [],
   "source": [
    "import pandas as pd\n",
    "import numpy as np\n",
    "import textdistance\n",
    "import re\n",
    "from collections import Counter\n",
    "words = []\n",
    "with open('moby.txt', 'r') as f:\n",
    "    file_name_data = f.read()\n",
    "    file_name_data=file_name_data.lower()\n",
    "    words = re.findall('\\w+',file_name_data)\n",
    "# This is our vocabulary\n",
    "V = set(words)\n",
    "print(f\"The first ten words in the text are: \\n{words[0:10]}\")\n",
    "print(f\"There are {len(V)} unique words in the vocabulary.\")"
   ]
  },
  {
   "cell_type": "markdown",
   "id": "13b685b0",
   "metadata": {},
   "source": [
    "In the above code,  a list of words have been, and now need to build the frequency of those words, which can be easily done by using the counter function in Python:"
   ]
  },
  {
   "cell_type": "code",
   "execution_count": null,
   "id": "bbb26329",
   "metadata": {},
   "outputs": [],
   "source": [
    "word_freq_dict = {}  \n",
    "word_freq_dict = Counter(words)\n",
    "print(word_freq_dict.most_common()[0:10])"
   ]
  },
  {
   "cell_type": "markdown",
   "id": "8fd631e8",
   "metadata": {},
   "source": [
    "## Relative Frequency of words\n",
    "\n",
    "Now we want to get the probability of occurrence of each word, this equals the relative frequencies of the words:"
   ]
  },
  {
   "cell_type": "code",
   "execution_count": null,
   "id": "59700ca3",
   "metadata": {},
   "outputs": [],
   "source": [
    "probs = {}     \n",
    "Total = sum(word_freq_dict.values())    \n",
    "for k in word_freq_dict.keys():\n",
    "    probs[k] = word_freq_dict[k]/Total"
   ]
  },
  {
   "cell_type": "markdown",
   "id": "d2dabe6b",
   "metadata": {},
   "source": [
    "Finding Similar Words\n",
    "\n",
    "Now we will sort similar words according to the Jaccard distance by calculating the 2 grams Q of the words. Next, we will return the 5 most similar words ordered by similarity and probability:"
   ]
  },
  {
   "cell_type": "code",
   "execution_count": null,
   "id": "03e12ca4",
   "metadata": {},
   "outputs": [],
   "source": [
    "def my_autocorrect(input_word):\n",
    "    input_word = input_word.lower()\n",
    "if input_word in V:\n",
    "        return('Your word seems to be correct')\n",
    "    else:\n",
    "        similarities = [1-(textdistance.Jaccard(qval=2).distance(v,input_word)) for v in word_freq_dict.keys()]\n",
    "        df = pd.DataFrame.from_dict(probs, orient='index').reset_index()\n",
    "        df = df.rename(columns={'index':'Word', 0:'Prob'})\n",
    "        df['Similarity'] = similarities\n",
    "        output = df.sort_values(['Similarity', 'Prob'], ascending=False).head()\n",
    "        return(output)"
   ]
  },
  {
   "cell_type": "code",
   "execution_count": null,
   "id": "5fa0d5cc",
   "metadata": {},
   "outputs": [],
   "source": []
  },
  {
   "cell_type": "code",
   "execution_count": null,
   "id": "abb2969d",
   "metadata": {},
   "outputs": [],
   "source": []
  },
  {
   "cell_type": "code",
   "execution_count": null,
   "id": "6e06efaf",
   "metadata": {},
   "outputs": [],
   "source": []
  },
  {
   "cell_type": "code",
   "execution_count": null,
   "id": "6deabd7d",
   "metadata": {},
   "outputs": [],
   "source": []
  }
 ],
 "metadata": {
  "kernelspec": {
   "display_name": "Python 3 (ipykernel)",
   "language": "python",
   "name": "python3"
  },
  "language_info": {
   "codemirror_mode": {
    "name": "ipython",
    "version": 3
   },
   "file_extension": ".py",
   "mimetype": "text/x-python",
   "name": "python",
   "nbconvert_exporter": "python",
   "pygments_lexer": "ipython3",
   "version": "3.8.10"
  }
 },
 "nbformat": 4,
 "nbformat_minor": 5
}
