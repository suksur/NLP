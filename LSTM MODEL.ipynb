{
 "cells": [
  {
   "cell_type": "code",
   "execution_count": 44,
   "id": "134cca81",
   "metadata": {},
   "outputs": [],
   "source": [
    "import pandas as pd\n",
    "data = pd.read_csv(\"Manglish.csv\")\n"
   ]
  },
  {
   "cell_type": "code",
   "execution_count": 40,
   "id": "38cca7fd",
   "metadata": {},
   "outputs": [],
   "source": []
  },
  {
   "cell_type": "code",
   "execution_count": 52,
   "id": "1bd8b769",
   "metadata": {},
   "outputs": [],
   "source": [
    "import numpy as np\n",
    "train_data, val_data, test_data = np.split(data.sample(frac=1, random_state=42), [int(.6*len(data)), int(.8*len(data))])"
   ]
  },
  {
   "cell_type": "code",
   "execution_count": 53,
   "id": "c560b62f",
   "metadata": {},
   "outputs": [],
   "source": [
    "train_data=train_data.astype(str)\n",
    "test_data=test_data.astype(str)\n",
    "val_data=val_data.astype(str)"
   ]
  },
  {
   "cell_type": "code",
   "execution_count": 54,
   "id": "17d2dff8",
   "metadata": {},
   "outputs": [
    {
     "data": {
      "text/html": [
       "<div>\n",
       "<style scoped>\n",
       "    .dataframe tbody tr th:only-of-type {\n",
       "        vertical-align: middle;\n",
       "    }\n",
       "\n",
       "    .dataframe tbody tr th {\n",
       "        vertical-align: top;\n",
       "    }\n",
       "\n",
       "    .dataframe thead th {\n",
       "        text-align: right;\n",
       "    }\n",
       "</style>\n",
       "<table border=\"1\" class=\"dataframe\">\n",
       "  <thead>\n",
       "    <tr style=\"text-align: right;\">\n",
       "      <th></th>\n",
       "      <th>text</th>\n",
       "      <th>target</th>\n",
       "    </tr>\n",
       "  </thead>\n",
       "  <tbody>\n",
       "    <tr>\n",
       "      <th>438</th>\n",
       "      <td>Nattellullengile pothu samuhathil parayan pattu</td>\n",
       "      <td>Neutral</td>\n",
       "    </tr>\n",
       "    <tr>\n",
       "      <th>9389</th>\n",
       "      <td>Villainm villainte monum orumich padkuayrikm..</td>\n",
       "      <td>Neutral</td>\n",
       "    </tr>\n",
       "    <tr>\n",
       "      <th>385</th>\n",
       "      <td>Kerala politicsile Shigandi ennu vazhthapedatt...</td>\n",
       "      <td>Negative</td>\n",
       "    </tr>\n",
       "    <tr>\n",
       "      <th>10218</th>\n",
       "      <td>Ne troln allne enke aryam</td>\n",
       "      <td>Neutral</td>\n",
       "    </tr>\n",
       "    <tr>\n",
       "      <th>11091</th>\n",
       "      <td>Likes um subscribers um kuravanelum viewers ne...</td>\n",
       "      <td>Negative</td>\n",
       "    </tr>\n",
       "    <tr>\n",
       "      <th>...</th>\n",
       "      <td>...</td>\n",
       "      <td>...</td>\n",
       "    </tr>\n",
       "    <tr>\n",
       "      <th>14872</th>\n",
       "      <td>Pwoliyeaaa ❤️❤️❤️❤️❤️.....Adithyan ivada indoo...</td>\n",
       "      <td>Positive</td>\n",
       "    </tr>\n",
       "    <tr>\n",
       "      <th>17128</th>\n",
       "      <td>Uppum mulakum Continue aayit kaanan pattiyirun...</td>\n",
       "      <td>Positive</td>\n",
       "    </tr>\n",
       "    <tr>\n",
       "      <th>3587</th>\n",
       "      <td>Vaaye thonniyathalla ayalude massilullatha vil...</td>\n",
       "      <td>Neutral</td>\n",
       "    </tr>\n",
       "    <tr>\n",
       "      <th>11775</th>\n",
       "      <td>Arun uyir</td>\n",
       "      <td>Positive</td>\n",
       "    </tr>\n",
       "    <tr>\n",
       "      <th>15725</th>\n",
       "      <td>Namichuuuuuu sajeesh atta👏👏👏👍👍👍👍👍👍👍👍👍👍😍😍😘😘...g...</td>\n",
       "      <td>Positive</td>\n",
       "    </tr>\n",
       "  </tbody>\n",
       "</table>\n",
       "<p>11473 rows × 2 columns</p>\n",
       "</div>"
      ],
      "text/plain": [
       "                                                    text    target\n",
       "438      Nattellullengile pothu samuhathil parayan pattu   Neutral\n",
       "9389      Villainm villainte monum orumich padkuayrikm..   Neutral\n",
       "385    Kerala politicsile Shigandi ennu vazhthapedatt...  Negative\n",
       "10218                          Ne troln allne enke aryam   Neutral\n",
       "11091  Likes um subscribers um kuravanelum viewers ne...  Negative\n",
       "...                                                  ...       ...\n",
       "14872  Pwoliyeaaa ❤️❤️❤️❤️❤️.....Adithyan ivada indoo...  Positive\n",
       "17128  Uppum mulakum Continue aayit kaanan pattiyirun...  Positive\n",
       "3587   Vaaye thonniyathalla ayalude massilullatha vil...   Neutral\n",
       "11775                                          Arun uyir  Positive\n",
       "15725  Namichuuuuuu sajeesh atta👏👏👏👍👍👍👍👍👍👍👍👍👍😍😍😘😘...g...  Positive\n",
       "\n",
       "[11473 rows x 2 columns]"
      ]
     },
     "execution_count": 54,
     "metadata": {},
     "output_type": "execute_result"
    }
   ],
   "source": [
    "train_data"
   ]
  },
  {
   "cell_type": "code",
   "execution_count": 60,
   "id": "d5481aab",
   "metadata": {},
   "outputs": [
    {
     "data": {
      "text/html": [
       "<div>\n",
       "<style scoped>\n",
       "    .dataframe tbody tr th:only-of-type {\n",
       "        vertical-align: middle;\n",
       "    }\n",
       "\n",
       "    .dataframe tbody tr th {\n",
       "        vertical-align: top;\n",
       "    }\n",
       "\n",
       "    .dataframe thead th {\n",
       "        text-align: right;\n",
       "    }\n",
       "</style>\n",
       "<table border=\"1\" class=\"dataframe\">\n",
       "  <thead>\n",
       "    <tr style=\"text-align: right;\">\n",
       "      <th></th>\n",
       "      <th>text</th>\n",
       "      <th>target</th>\n",
       "    </tr>\n",
       "  </thead>\n",
       "  <tbody>\n",
       "    <tr>\n",
       "      <th>18481</th>\n",
       "      <td>Superb &amp; promising  trailer</td>\n",
       "      <td>Positive</td>\n",
       "    </tr>\n",
       "    <tr>\n",
       "      <th>5485</th>\n",
       "      <td>Chilar evide chennalum avide kolamakkyitte adangu</td>\n",
       "      <td>Negative</td>\n",
       "    </tr>\n",
       "    <tr>\n",
       "      <th>6136</th>\n",
       "      <td>Shiksha kuranju poyi achanum ammakkum nashtama...</td>\n",
       "      <td>Negative</td>\n",
       "    </tr>\n",
       "    <tr>\n",
       "      <th>10976</th>\n",
       "      <td>Ivanu pranthano</td>\n",
       "      <td>Negative</td>\n",
       "    </tr>\n",
       "    <tr>\n",
       "      <th>5694</th>\n",
       "      <td>Avande familiyilullavar ithilum kashttamayirikkum</td>\n",
       "      <td>Negative</td>\n",
       "    </tr>\n",
       "    <tr>\n",
       "      <th>...</th>\n",
       "      <td>...</td>\n",
       "      <td>...</td>\n",
       "    </tr>\n",
       "    <tr>\n",
       "      <th>11284</th>\n",
       "      <td>Endh veruppikalada</td>\n",
       "      <td>Negative</td>\n",
       "    </tr>\n",
       "    <tr>\n",
       "      <th>11964</th>\n",
       "      <td>Uyoo ende monee 😂😂 kuduthaal kuduthal prathesh...</td>\n",
       "      <td>Positive</td>\n",
       "    </tr>\n",
       "    <tr>\n",
       "      <th>5390</th>\n",
       "      <td>Abilash sanki</td>\n",
       "      <td>Neutral</td>\n",
       "    </tr>\n",
       "    <tr>\n",
       "      <th>860</th>\n",
       "      <td>Ayala aara thurannu vitta...😠</td>\n",
       "      <td>Neutral</td>\n",
       "    </tr>\n",
       "    <tr>\n",
       "      <th>15795</th>\n",
       "      <td>Poliyeeeeeeeee❤💪💪</td>\n",
       "      <td>Positive</td>\n",
       "    </tr>\n",
       "  </tbody>\n",
       "</table>\n",
       "<p>3825 rows × 2 columns</p>\n",
       "</div>"
      ],
      "text/plain": [
       "                                                    text    target\n",
       "18481                        Superb & promising  trailer  Positive\n",
       "5485   Chilar evide chennalum avide kolamakkyitte adangu  Negative\n",
       "6136   Shiksha kuranju poyi achanum ammakkum nashtama...  Negative\n",
       "10976                                    Ivanu pranthano  Negative\n",
       "5694   Avande familiyilullavar ithilum kashttamayirikkum  Negative\n",
       "...                                                  ...       ...\n",
       "11284                                 Endh veruppikalada  Negative\n",
       "11964  Uyoo ende monee 😂😂 kuduthaal kuduthal prathesh...  Positive\n",
       "5390                                       Abilash sanki   Neutral\n",
       "860                        Ayala aara thurannu vitta...😠   Neutral\n",
       "15795                                  Poliyeeeeeeeee❤💪💪  Positive\n",
       "\n",
       "[3825 rows x 2 columns]"
      ]
     },
     "execution_count": 60,
     "metadata": {},
     "output_type": "execute_result"
    }
   ],
   "source": [
    "test_data"
   ]
  },
  {
   "cell_type": "code",
   "execution_count": 56,
   "id": "5efb4145",
   "metadata": {},
   "outputs": [
    {
     "data": {
      "text/html": [
       "<div>\n",
       "<style scoped>\n",
       "    .dataframe tbody tr th:only-of-type {\n",
       "        vertical-align: middle;\n",
       "    }\n",
       "\n",
       "    .dataframe tbody tr th {\n",
       "        vertical-align: top;\n",
       "    }\n",
       "\n",
       "    .dataframe thead th {\n",
       "        text-align: right;\n",
       "    }\n",
       "</style>\n",
       "<table border=\"1\" class=\"dataframe\">\n",
       "  <thead>\n",
       "    <tr style=\"text-align: right;\">\n",
       "      <th></th>\n",
       "      <th>text</th>\n",
       "      <th>target</th>\n",
       "    </tr>\n",
       "  </thead>\n",
       "  <tbody>\n",
       "    <tr>\n",
       "      <th>10962</th>\n",
       "      <td>Shonnan nee ahda🤣🤣🤣</td>\n",
       "      <td>Negative</td>\n",
       "    </tr>\n",
       "    <tr>\n",
       "      <th>10185</th>\n",
       "      <td>Kuree naalinu shesham aanu like nw kkal koodut...</td>\n",
       "      <td>Neutral</td>\n",
       "    </tr>\n",
       "    <tr>\n",
       "      <th>324</th>\n",
       "      <td>lulu vannal mattu cheriya kachavadakkaar poott...</td>\n",
       "      <td>Neutral</td>\n",
       "    </tr>\n",
       "    <tr>\n",
       "      <th>7890</th>\n",
       "      <td>Chettan nice aayit amazonil kaanicha price cut...</td>\n",
       "      <td>Neutral</td>\n",
       "    </tr>\n",
       "    <tr>\n",
       "      <th>5171</th>\n",
       "      <td>Soudhi arabia vare maari evide sthreekal epol ...</td>\n",
       "      <td>Neutral</td>\n",
       "    </tr>\n",
       "    <tr>\n",
       "      <th>...</th>\n",
       "      <td>...</td>\n",
       "      <td>...</td>\n",
       "    </tr>\n",
       "    <tr>\n",
       "      <th>10442</th>\n",
       "      <td>Elaavarum inghane fukruvine kuttam parayalle.....</td>\n",
       "      <td>Neutral</td>\n",
       "    </tr>\n",
       "    <tr>\n",
       "      <th>14631</th>\n",
       "      <td>Enikku onnu support cheyyamo</td>\n",
       "      <td>Neutral</td>\n",
       "    </tr>\n",
       "    <tr>\n",
       "      <th>4897</th>\n",
       "      <td>Muslim myranmar</td>\n",
       "      <td>Negative</td>\n",
       "    </tr>\n",
       "    <tr>\n",
       "      <th>5039</th>\n",
       "      <td>pavam usthad school kandittillallo</td>\n",
       "      <td>Negative</td>\n",
       "    </tr>\n",
       "    <tr>\n",
       "      <th>2346</th>\n",
       "      <td>Oonth georg avanuvattanu avankurakkate pepatty...</td>\n",
       "      <td>Negative</td>\n",
       "    </tr>\n",
       "  </tbody>\n",
       "</table>\n",
       "<p>3824 rows × 2 columns</p>\n",
       "</div>"
      ],
      "text/plain": [
       "                                                    text    target\n",
       "10962                                Shonnan nee ahda🤣🤣🤣  Negative\n",
       "10185  Kuree naalinu shesham aanu like nw kkal koodut...   Neutral\n",
       "324    lulu vannal mattu cheriya kachavadakkaar poott...   Neutral\n",
       "7890   Chettan nice aayit amazonil kaanicha price cut...   Neutral\n",
       "5171   Soudhi arabia vare maari evide sthreekal epol ...   Neutral\n",
       "...                                                  ...       ...\n",
       "10442  Elaavarum inghane fukruvine kuttam parayalle.....   Neutral\n",
       "14631                       Enikku onnu support cheyyamo   Neutral\n",
       "4897                                     Muslim myranmar  Negative\n",
       "5039                  pavam usthad school kandittillallo  Negative\n",
       "2346   Oonth georg avanuvattanu avankurakkate pepatty...  Negative\n",
       "\n",
       "[3824 rows x 2 columns]"
      ]
     },
     "execution_count": 56,
     "metadata": {},
     "output_type": "execute_result"
    }
   ],
   "source": [
    "val_data"
   ]
  },
  {
   "cell_type": "code",
   "execution_count": 57,
   "id": "b1c3592f",
   "metadata": {},
   "outputs": [
    {
     "data": {
      "text/html": [
       "<div>\n",
       "<style scoped>\n",
       "    .dataframe tbody tr th:only-of-type {\n",
       "        vertical-align: middle;\n",
       "    }\n",
       "\n",
       "    .dataframe tbody tr th {\n",
       "        vertical-align: top;\n",
       "    }\n",
       "\n",
       "    .dataframe thead th {\n",
       "        text-align: right;\n",
       "    }\n",
       "</style>\n",
       "<table border=\"1\" class=\"dataframe\">\n",
       "  <thead>\n",
       "    <tr style=\"text-align: right;\">\n",
       "      <th></th>\n",
       "      <th>text</th>\n",
       "      <th>target</th>\n",
       "    </tr>\n",
       "  </thead>\n",
       "  <tbody>\n",
       "    <tr>\n",
       "      <th>438</th>\n",
       "      <td>natelulengile pothu samuhathil parayan patu</td>\n",
       "      <td>neutral</td>\n",
       "    </tr>\n",
       "    <tr>\n",
       "      <th>9389</th>\n",
       "      <td>vilainm vilainte monum orumich padkuayrikm</td>\n",
       "      <td>neutral</td>\n",
       "    </tr>\n",
       "    <tr>\n",
       "      <th>385</th>\n",
       "      <td>kerala politicsile shigandi enu vazhthapedate</td>\n",
       "      <td>negative</td>\n",
       "    </tr>\n",
       "    <tr>\n",
       "      <th>10218</th>\n",
       "      <td>ne troln alne enke aryam</td>\n",
       "      <td>neutral</td>\n",
       "    </tr>\n",
       "    <tr>\n",
       "      <th>11091</th>\n",
       "      <td>likes um subscribers um kuravanelum viewers ne...</td>\n",
       "      <td>negative</td>\n",
       "    </tr>\n",
       "  </tbody>\n",
       "</table>\n",
       "</div>"
      ],
      "text/plain": [
       "                                                    text    target\n",
       "438          natelulengile pothu samuhathil parayan patu   neutral\n",
       "9389          vilainm vilainte monum orumich padkuayrikm   neutral\n",
       "385        kerala politicsile shigandi enu vazhthapedate  negative\n",
       "10218                           ne troln alne enke aryam   neutral\n",
       "11091  likes um subscribers um kuravanelum viewers ne...  negative"
      ]
     },
     "execution_count": 57,
     "metadata": {},
     "output_type": "execute_result"
    }
   ],
   "source": [
    "import re\n",
    "train_data['text'] = train_data['text'].apply(lambda x: x.lower())\n",
    "train_data['target'] = train_data['target'].apply(lambda x: x.lower())\n",
    "# removing special chars\n",
    "train_data['text'] = train_data['text'].apply((lambda x: re.sub('[^a-zA-z0-9\\s]','',x)))\n",
    "# removing consecutive letters\n",
    "train_data['text'] = train_data['text'].apply((lambda x: re.sub(r'(.)\\1+', r'\\1',x)))\n",
    "\n",
    "train_data['target'] = train_data['target'].apply((lambda x: re.sub(r'\\s+', '', x, flags=re.I)))\n",
    "\n",
    "train_data.head()"
   ]
  },
  {
   "cell_type": "code",
   "execution_count": 58,
   "id": "6dfb57c0",
   "metadata": {},
   "outputs": [
    {
     "data": {
      "text/html": [
       "<div>\n",
       "<style scoped>\n",
       "    .dataframe tbody tr th:only-of-type {\n",
       "        vertical-align: middle;\n",
       "    }\n",
       "\n",
       "    .dataframe tbody tr th {\n",
       "        vertical-align: top;\n",
       "    }\n",
       "\n",
       "    .dataframe thead th {\n",
       "        text-align: right;\n",
       "    }\n",
       "</style>\n",
       "<table border=\"1\" class=\"dataframe\">\n",
       "  <thead>\n",
       "    <tr style=\"text-align: right;\">\n",
       "      <th></th>\n",
       "      <th>text</th>\n",
       "      <th>target</th>\n",
       "    </tr>\n",
       "  </thead>\n",
       "  <tbody>\n",
       "    <tr>\n",
       "      <th>10442</th>\n",
       "      <td>elavarum inghane fukruvine kutam parayale like...</td>\n",
       "      <td>neutral</td>\n",
       "    </tr>\n",
       "    <tr>\n",
       "      <th>14631</th>\n",
       "      <td>eniku onu suport cheyamo</td>\n",
       "      <td>neutral</td>\n",
       "    </tr>\n",
       "    <tr>\n",
       "      <th>4897</th>\n",
       "      <td>muslim myranmar</td>\n",
       "      <td>negative</td>\n",
       "    </tr>\n",
       "    <tr>\n",
       "      <th>5039</th>\n",
       "      <td>pavam usthad schol kanditilalo</td>\n",
       "      <td>negative</td>\n",
       "    </tr>\n",
       "    <tr>\n",
       "      <th>2346</th>\n",
       "      <td>onth georg avanuvatanu avankurakate pepatypole</td>\n",
       "      <td>negative</td>\n",
       "    </tr>\n",
       "  </tbody>\n",
       "</table>\n",
       "</div>"
      ],
      "text/plain": [
       "                                                    text    target\n",
       "10442  elavarum inghane fukruvine kutam parayale like...   neutral\n",
       "14631                           eniku onu suport cheyamo   neutral\n",
       "4897                                     muslim myranmar  negative\n",
       "5039                      pavam usthad schol kanditilalo  negative\n",
       "2346      onth georg avanuvatanu avankurakate pepatypole  negative"
      ]
     },
     "execution_count": 58,
     "metadata": {},
     "output_type": "execute_result"
    }
   ],
   "source": [
    "val_data['text'] = val_data['text'].apply(lambda x: x.lower())\n",
    "val_data['target'] = val_data['target'].apply(lambda x: x.lower())\n",
    "# removing special chars\n",
    "val_data['text'] = val_data['text'].apply((lambda x: re.sub('[^a-zA-z0-9\\s]','',x)))\n",
    "# removing consecutive letters\n",
    "val_data['text'] = val_data['text'].apply((lambda x: re.sub(r'(.)\\1+', r'\\1',x)))\n",
    "\n",
    "val_data['target'] = val_data['target'].apply((lambda x: re.sub(r'\\s+', '', x, flags=re.I)))\n",
    "\n",
    "val_data.tail()"
   ]
  },
  {
   "cell_type": "code",
   "execution_count": 61,
   "id": "4a59746b",
   "metadata": {},
   "outputs": [
    {
     "data": {
      "text/html": [
       "<div>\n",
       "<style scoped>\n",
       "    .dataframe tbody tr th:only-of-type {\n",
       "        vertical-align: middle;\n",
       "    }\n",
       "\n",
       "    .dataframe tbody tr th {\n",
       "        vertical-align: top;\n",
       "    }\n",
       "\n",
       "    .dataframe thead th {\n",
       "        text-align: right;\n",
       "    }\n",
       "</style>\n",
       "<table border=\"1\" class=\"dataframe\">\n",
       "  <thead>\n",
       "    <tr style=\"text-align: right;\">\n",
       "      <th></th>\n",
       "      <th>text</th>\n",
       "      <th>target</th>\n",
       "    </tr>\n",
       "  </thead>\n",
       "  <tbody>\n",
       "    <tr>\n",
       "      <th>11284</th>\n",
       "      <td>endh verupikalada</td>\n",
       "      <td>negative</td>\n",
       "    </tr>\n",
       "    <tr>\n",
       "      <th>11964</th>\n",
       "      <td>uyo ende mone kuduthal kuduthal pratheshikunu</td>\n",
       "      <td>positive</td>\n",
       "    </tr>\n",
       "    <tr>\n",
       "      <th>5390</th>\n",
       "      <td>abilash sanki</td>\n",
       "      <td>neutral</td>\n",
       "    </tr>\n",
       "    <tr>\n",
       "      <th>860</th>\n",
       "      <td>ayala ara thuranu vita</td>\n",
       "      <td>neutral</td>\n",
       "    </tr>\n",
       "    <tr>\n",
       "      <th>15795</th>\n",
       "      <td>poliye</td>\n",
       "      <td>positive</td>\n",
       "    </tr>\n",
       "  </tbody>\n",
       "</table>\n",
       "</div>"
      ],
      "text/plain": [
       "                                                 text    target\n",
       "11284                               endh verupikalada  negative\n",
       "11964  uyo ende mone kuduthal kuduthal pratheshikunu   positive\n",
       "5390                                    abilash sanki   neutral\n",
       "860                            ayala ara thuranu vita   neutral\n",
       "15795                                          poliye  positive"
      ]
     },
     "execution_count": 61,
     "metadata": {},
     "output_type": "execute_result"
    }
   ],
   "source": [
    "test_data['text'] = test_data['text'].apply(lambda x: x.lower())\n",
    "test_data['target'] = test_data['target'].apply(lambda x: x.lower())\n",
    "# removing special chars\n",
    "test_data['text'] = test_data['text'].apply((lambda x: re.sub('[^a-zA-z0-9\\s]','',x)))\n",
    "# removing consecutive letters\n",
    "test_data['text'] = test_data['text'].apply((lambda x: re.sub(r'(.)\\1+', r'\\1',x)))\n",
    "\n",
    "test_data['target'] = test_data['target'].apply((lambda x: re.sub(r'\\s+', '', x, flags=re.I)))\n",
    "\n",
    "test_data.tail()"
   ]
  },
  {
   "cell_type": "code",
   "execution_count": 62,
   "id": "e3bca5ac",
   "metadata": {},
   "outputs": [
    {
     "data": {
      "text/plain": [
       "array(['negative', 'neutral', 'positive'], dtype=object)"
      ]
     },
     "execution_count": 62,
     "metadata": {},
     "output_type": "execute_result"
    }
   ],
   "source": [
    "val_data.target.unique()"
   ]
  },
  {
   "cell_type": "code",
   "execution_count": 63,
   "id": "52502b6a",
   "metadata": {},
   "outputs": [
    {
     "name": "stdout",
     "output_type": "stream",
     "text": [
      "                                                    text    target\n",
      "0            natelulengile pothu samuhathil parayan patu   neutral\n",
      "1             vilainm vilainte monum orumich padkuayrikm   neutral\n",
      "2          kerala politicsile shigandi enu vazhthapedate  negative\n",
      "3                               ne troln alne enke aryam   neutral\n",
      "4      likes um subscribers um kuravanelum viewers ne...  negative\n",
      "...                                                  ...       ...\n",
      "19117                                  endh verupikalada  negative\n",
      "19118     uyo ende mone kuduthal kuduthal pratheshikunu   positive\n",
      "19119                                      abilash sanki   neutral\n",
      "19120                             ayala ara thuranu vita   neutral\n",
      "19121                                             poliye  positive\n",
      "\n",
      "[19122 rows x 2 columns]\n"
     ]
    }
   ],
   "source": [
    "data = pd.concat([train_data, val_data], ignore_index=True)\n",
    "data = pd.concat([data, test_data], ignore_index=True)\n",
    "print(data)"
   ]
  },
  {
   "cell_type": "code",
   "execution_count": 64,
   "id": "e0a1bf06",
   "metadata": {},
   "outputs": [
    {
     "name": "stdout",
     "output_type": "stream",
     "text": [
      "[[   0    0    0    0    0    0    0    0    0    0    0    0    0    0\n",
      "     0    0    0    0    0    0    0    0    0    0    0    0    0    0\n",
      "     0    0    0    0    0    0    0    0    0    0    0    0    0    0\n",
      "     0    0    0    0    0    0    0    0    0    0    0    0    0    0\n",
      "     0    0    0    0    0    0    0    0    0    0    0    0    0    0\n",
      "     0    0    0    0    0    0    0 1428   80  405]\n",
      " [   0    0    0    0    0    0    0    0    0    0    0    0    0    0\n",
      "     0    0    0    0    0    0    0    0    0    0    0    0    0    0\n",
      "     0    0    0    0    0    0    0    0    0    0    0    0    0    0\n",
      "     0    0    0    0    0    0    0    0    0    0    0    0    0    0\n",
      "     0    0    0    0    0    0    0    0    0    0    0    0    0    0\n",
      "     0    0    0    0    0    0    0    0    0 1096]]\n",
      "19122\n"
     ]
    }
   ],
   "source": [
    "from keras.preprocessing.text import Tokenizer\n",
    "#from keras.preprocessing.sequence import pad_sequences\n",
    "from keras.utils.data_utils import pad_sequences\n",
    "\n",
    "max_features = 1500\n",
    "tokenizer = Tokenizer(num_words=max_features, split=' ')\n",
    "tokenizer.fit_on_texts(data['text'].values)\n",
    "X= tokenizer.texts_to_sequences(data['text'].values)\n",
    "X = pad_sequences(X)\n",
    "print(X[:2])\n",
    "print(len(X))"
   ]
  },
  {
   "cell_type": "code",
   "execution_count": 65,
   "id": "bd982c62",
   "metadata": {},
   "outputs": [
    {
     "name": "stdout",
     "output_type": "stream",
     "text": [
      "[[0 1 0]\n",
      " [0 1 0]\n",
      " [1 0 0]\n",
      " ...\n",
      " [0 1 0]\n",
      " [0 1 0]\n",
      " [0 0 1]]\n"
     ]
    },
    {
     "data": {
      "text/plain": [
       "19122"
      ]
     },
     "execution_count": 65,
     "metadata": {},
     "output_type": "execute_result"
    }
   ],
   "source": [
    "Y = pd.get_dummies(data['target']).values\n",
    "print(Y)\n",
    "len(Y)"
   ]
  },
  {
   "cell_type": "code",
   "execution_count": 66,
   "id": "a818089c",
   "metadata": {},
   "outputs": [],
   "source": [
    "train = len(train_data)\n",
    "val = len(val_data)"
   ]
  },
  {
   "cell_type": "code",
   "execution_count": 67,
   "id": "17e4e680",
   "metadata": {},
   "outputs": [
    {
     "name": "stdout",
     "output_type": "stream",
     "text": [
      "11473\n",
      "11473\n",
      "3824\n",
      "3824\n",
      "3825\n",
      "3825\n"
     ]
    }
   ],
   "source": [
    "X_train = X[:train]\n",
    "Y_train = Y[:train]\n",
    "\n",
    "print(len(X_train))\n",
    "print(len(Y_train))\n",
    "\n",
    "X_val = X[train : (train+val)]\n",
    "Y_val = Y[train : (train+val)]\n",
    "\n",
    "print(len(X_val))\n",
    "print(len(Y_val))\n",
    "\n",
    "X_test = X[(train+val) : ]\n",
    "Y_test = Y[(train+val) : ]\n",
    "\n",
    "print(len(X_test))\n",
    "print(len(Y_test))"
   ]
  },
  {
   "cell_type": "code",
   "execution_count": 68,
   "id": "8f890dac",
   "metadata": {},
   "outputs": [],
   "source": [
    "from keras.preprocessing import sequence\n",
    "from keras.models import Sequential\n",
    "from keras.layers import Dense, Embedding, Bidirectional , Dropout , LSTM"
   ]
  },
  {
   "cell_type": "code",
   "execution_count": 71,
   "id": "a3dffeca",
   "metadata": {},
   "outputs": [
    {
     "name": "stdout",
     "output_type": "stream",
     "text": [
      "Model: \"sequential_3\"\n",
      "_________________________________________________________________\n",
      " Layer (type)                Output Shape              Param #   \n",
      "=================================================================\n",
      " embedding_3 (Embedding)     (None, None, 256)         384000    \n",
      "                                                                 \n",
      " bidirectional_3 (Bidirectio  (None, 256)              394240    \n",
      " nal)                                                            \n",
      "                                                                 \n",
      " dense_6 (Dense)             (None, 128)               32896     \n",
      "                                                                 \n",
      " dense_7 (Dense)             (None, 3)                 387       \n",
      "                                                                 \n",
      "=================================================================\n",
      "Total params: 811,523\n",
      "Trainable params: 811,523\n",
      "Non-trainable params: 0\n",
      "_________________________________________________________________\n",
      "None\n"
     ]
    }
   ],
   "source": [
    "model = Sequential()\n",
    "model.add(Embedding(max_features, 256))\n",
    "model.add(Bidirectional(LSTM(128)))\n",
    "model.add(Dense(128))    #for LSTM 4\n",
    "model.add(Dense(3,activation='softmax'))\n",
    "model.compile(loss = 'categorical_crossentropy', optimizer='rmsprop',metrics = ['accuracy'])\n",
    "print(model.summary())"
   ]
  },
  {
   "cell_type": "code",
   "execution_count": 80,
   "id": "be3ebdee",
   "metadata": {},
   "outputs": [
    {
     "name": "stdout",
     "output_type": "stream",
     "text": [
      "Epoch 1/50\n",
      "359/359 [==============================] - 89s 248ms/step - loss: 0.2245 - accuracy: 0.9014 - val_loss: 1.6638 - val_accuracy: 0.6187\n",
      "Epoch 2/50\n",
      "359/359 [==============================] - 93s 260ms/step - loss: 0.2178 - accuracy: 0.9010 - val_loss: 1.6960 - val_accuracy: 0.6294\n",
      "Epoch 3/50\n",
      "359/359 [==============================] - 96s 269ms/step - loss: 0.2095 - accuracy: 0.9062 - val_loss: 1.6976 - val_accuracy: 0.6318\n",
      "Epoch 4/50\n",
      "359/359 [==============================] - 91s 253ms/step - loss: 0.2057 - accuracy: 0.9090 - val_loss: 1.7041 - val_accuracy: 0.6226\n",
      "Epoch 5/50\n",
      "359/359 [==============================] - 92s 257ms/step - loss: 0.2015 - accuracy: 0.9101 - val_loss: 1.7621 - val_accuracy: 0.6237\n",
      "Epoch 6/50\n",
      "359/359 [==============================] - 98s 274ms/step - loss: 0.1953 - accuracy: 0.9129 - val_loss: 1.8032 - val_accuracy: 0.6234\n",
      "Epoch 7/50\n",
      "359/359 [==============================] - 96s 267ms/step - loss: 0.1930 - accuracy: 0.9130 - val_loss: 1.7089 - val_accuracy: 0.6289\n",
      "Epoch 8/50\n",
      "359/359 [==============================] - 93s 258ms/step - loss: 0.1888 - accuracy: 0.9135 - val_loss: 1.7296 - val_accuracy: 0.6237\n",
      "Epoch 9/50\n",
      "359/359 [==============================] - 96s 268ms/step - loss: 0.1847 - accuracy: 0.9156 - val_loss: 1.8082 - val_accuracy: 0.6211\n",
      "Epoch 10/50\n",
      "359/359 [==============================] - 83s 231ms/step - loss: 0.1833 - accuracy: 0.9155 - val_loss: 1.7687 - val_accuracy: 0.6169\n",
      "Epoch 11/50\n",
      "359/359 [==============================] - 77s 216ms/step - loss: 0.1824 - accuracy: 0.9155 - val_loss: 1.7698 - val_accuracy: 0.6224\n",
      "Epoch 12/50\n",
      "359/359 [==============================] - 77s 215ms/step - loss: 0.1810 - accuracy: 0.9159 - val_loss: 1.8135 - val_accuracy: 0.6216\n",
      "Epoch 13/50\n",
      "359/359 [==============================] - 78s 216ms/step - loss: 0.1795 - accuracy: 0.9184 - val_loss: 1.7158 - val_accuracy: 0.6240\n",
      "Epoch 14/50\n",
      "359/359 [==============================] - 78s 216ms/step - loss: 0.1775 - accuracy: 0.9195 - val_loss: 1.8674 - val_accuracy: 0.6287\n",
      "Epoch 15/50\n",
      "359/359 [==============================] - 81s 226ms/step - loss: 0.1743 - accuracy: 0.9183 - val_loss: 1.7233 - val_accuracy: 0.6263\n",
      "Epoch 16/50\n",
      "359/359 [==============================] - 81s 224ms/step - loss: 0.1739 - accuracy: 0.9189 - val_loss: 1.7727 - val_accuracy: 0.6237\n",
      "Epoch 17/50\n",
      "359/359 [==============================] - 80s 224ms/step - loss: 0.1738 - accuracy: 0.9205 - val_loss: 1.6609 - val_accuracy: 0.6242\n",
      "Epoch 18/50\n",
      "359/359 [==============================] - 82s 229ms/step - loss: 0.1726 - accuracy: 0.9206 - val_loss: 1.7733 - val_accuracy: 0.6274\n",
      "Epoch 19/50\n",
      "359/359 [==============================] - 85s 237ms/step - loss: 0.1714 - accuracy: 0.9215 - val_loss: 1.6945 - val_accuracy: 0.6145\n",
      "Epoch 20/50\n",
      "359/359 [==============================] - 89s 248ms/step - loss: 0.1714 - accuracy: 0.9215 - val_loss: 1.6772 - val_accuracy: 0.6166\n",
      "Epoch 21/50\n",
      "359/359 [==============================] - 89s 248ms/step - loss: 0.1700 - accuracy: 0.9204 - val_loss: 1.7714 - val_accuracy: 0.6192\n",
      "Epoch 22/50\n",
      "359/359 [==============================] - 101s 281ms/step - loss: 0.1686 - accuracy: 0.9214 - val_loss: 1.7326 - val_accuracy: 0.6263\n",
      "Epoch 23/50\n",
      "359/359 [==============================] - 89s 249ms/step - loss: 0.1681 - accuracy: 0.9204 - val_loss: 1.8116 - val_accuracy: 0.6279\n",
      "Epoch 24/50\n",
      "359/359 [==============================] - 89s 247ms/step - loss: 0.1680 - accuracy: 0.9212 - val_loss: 1.7445 - val_accuracy: 0.6268\n",
      "Epoch 25/50\n",
      "359/359 [==============================] - 78s 217ms/step - loss: 0.1670 - accuracy: 0.9220 - val_loss: 1.7317 - val_accuracy: 0.6297\n",
      "Epoch 26/50\n",
      "359/359 [==============================] - 82s 229ms/step - loss: 0.1681 - accuracy: 0.9231 - val_loss: 1.6908 - val_accuracy: 0.6182\n",
      "Epoch 27/50\n",
      "359/359 [==============================] - 103s 286ms/step - loss: 0.1649 - accuracy: 0.9215 - val_loss: 1.6806 - val_accuracy: 0.6260\n",
      "Epoch 28/50\n",
      "359/359 [==============================] - 84s 235ms/step - loss: 0.1651 - accuracy: 0.9207 - val_loss: 1.6907 - val_accuracy: 0.6263\n",
      "Epoch 29/50\n",
      "359/359 [==============================] - 78s 216ms/step - loss: 0.1660 - accuracy: 0.9218 - val_loss: 1.6079 - val_accuracy: 0.6234\n",
      "Epoch 30/50\n",
      "359/359 [==============================] - 78s 217ms/step - loss: 0.1648 - accuracy: 0.9230 - val_loss: 1.6483 - val_accuracy: 0.6213\n",
      "Epoch 31/50\n",
      "359/359 [==============================] - 84s 234ms/step - loss: 0.1648 - accuracy: 0.9209 - val_loss: 1.6967 - val_accuracy: 0.6250\n",
      "Epoch 32/50\n",
      "359/359 [==============================] - 87s 242ms/step - loss: 0.1642 - accuracy: 0.9205 - val_loss: 1.6018 - val_accuracy: 0.6253\n",
      "Epoch 33/50\n",
      "359/359 [==============================] - 81s 225ms/step - loss: 0.1633 - accuracy: 0.9214 - val_loss: 1.8072 - val_accuracy: 0.6263\n",
      "Epoch 34/50\n",
      "359/359 [==============================] - 82s 227ms/step - loss: 0.1632 - accuracy: 0.9218 - val_loss: 1.7146 - val_accuracy: 0.6143\n",
      "Epoch 35/50\n",
      "359/359 [==============================] - 82s 228ms/step - loss: 0.1640 - accuracy: 0.9216 - val_loss: 1.7089 - val_accuracy: 0.6224\n",
      "Epoch 36/50\n",
      "359/359 [==============================] - 82s 229ms/step - loss: 0.1636 - accuracy: 0.9207 - val_loss: 1.6356 - val_accuracy: 0.6211\n",
      "Epoch 37/50\n",
      "359/359 [==============================] - 83s 230ms/step - loss: 0.1650 - accuracy: 0.9202 - val_loss: 1.5694 - val_accuracy: 0.6203\n",
      "Epoch 38/50\n",
      "359/359 [==============================] - 84s 234ms/step - loss: 0.1624 - accuracy: 0.9222 - val_loss: 1.6275 - val_accuracy: 0.6234\n",
      "Epoch 39/50\n",
      "359/359 [==============================] - 82s 227ms/step - loss: 0.1625 - accuracy: 0.9210 - val_loss: 1.6586 - val_accuracy: 0.6245\n",
      "Epoch 40/50\n",
      "359/359 [==============================] - 82s 228ms/step - loss: 0.1620 - accuracy: 0.9216 - val_loss: 1.6218 - val_accuracy: 0.6260\n",
      "Epoch 41/50\n",
      "359/359 [==============================] - 83s 231ms/step - loss: 0.1623 - accuracy: 0.9229 - val_loss: 1.7448 - val_accuracy: 0.6195\n",
      "Epoch 42/50\n",
      "359/359 [==============================] - 83s 231ms/step - loss: 0.1628 - accuracy: 0.9210 - val_loss: 1.5606 - val_accuracy: 0.6247\n",
      "Epoch 43/50\n",
      "359/359 [==============================] - 82s 229ms/step - loss: 0.1608 - accuracy: 0.9235 - val_loss: 1.6560 - val_accuracy: 0.6294\n",
      "Epoch 44/50\n",
      "359/359 [==============================] - 82s 229ms/step - loss: 0.1610 - accuracy: 0.9218 - val_loss: 1.6012 - val_accuracy: 0.6271\n",
      "Epoch 45/50\n",
      "359/359 [==============================] - 84s 233ms/step - loss: 0.1618 - accuracy: 0.9207 - val_loss: 1.5737 - val_accuracy: 0.6326\n",
      "Epoch 46/50\n",
      "359/359 [==============================] - 84s 235ms/step - loss: 0.1614 - accuracy: 0.9217 - val_loss: 1.6274 - val_accuracy: 0.6255\n",
      "Epoch 47/50\n",
      "359/359 [==============================] - 82s 227ms/step - loss: 0.1613 - accuracy: 0.9225 - val_loss: 1.6795 - val_accuracy: 0.6292\n",
      "Epoch 48/50\n",
      "359/359 [==============================] - 82s 228ms/step - loss: 0.1606 - accuracy: 0.9225 - val_loss: 1.6210 - val_accuracy: 0.6247\n",
      "Epoch 49/50\n",
      "359/359 [==============================] - 82s 228ms/step - loss: 0.1607 - accuracy: 0.9207 - val_loss: 1.5595 - val_accuracy: 0.6302\n",
      "Epoch 50/50\n",
      "359/359 [==============================] - 82s 229ms/step - loss: 0.1603 - accuracy: 0.9223 - val_loss: 1.7098 - val_accuracy: 0.6302\n"
     ]
    },
    {
     "data": {
      "text/plain": [
       "<keras.callbacks.History at 0x7f3a986dcfd0>"
      ]
     },
     "execution_count": 80,
     "metadata": {},
     "output_type": "execute_result"
    }
   ],
   "source": [
    "model.fit(X_train, Y_train, epochs = 50, batch_size= 32 ,verbose = 1 , validation_data=(X_val,Y_val))"
   ]
  },
  {
   "cell_type": "code",
   "execution_count": 87,
   "id": "55d8a88b",
   "metadata": {},
   "outputs": [
    {
     "name": "stdout",
     "output_type": "stream",
     "text": [
      "[[   0    0    0 ...    0  477   62]\n",
      " [   0    0    0 ...    0  131  231]\n",
      " [   0    0    0 ...  129  908  231]\n",
      " ...\n",
      " [   0    0    0 ...    0    0 1136]\n",
      " [   0    0    0 ...    0    0  249]\n",
      " [   0    0    0 ...    0    0 1282]]\n"
     ]
    }
   ],
   "source": [
    "print(X_test)"
   ]
  },
  {
   "cell_type": "code",
   "execution_count": 81,
   "id": "7c59463e",
   "metadata": {},
   "outputs": [
    {
     "name": "stdout",
     "output_type": "stream",
     "text": [
      "120/120 [==============================] - 8s 69ms/step\n"
     ]
    }
   ],
   "source": [
    "Y_pred = model.predict(X_test)"
   ]
  },
  {
   "cell_type": "code",
   "execution_count": 82,
   "id": "b9712ce4",
   "metadata": {},
   "outputs": [],
   "source": [
    "classes = ['negative','neutral','positive']"
   ]
  },
  {
   "cell_type": "code",
   "execution_count": 83,
   "id": "4aa1cf50",
   "metadata": {},
   "outputs": [
    {
     "data": {
      "text/plain": [
       "3825"
      ]
     },
     "execution_count": 83,
     "metadata": {},
     "output_type": "execute_result"
    }
   ],
   "source": [
    "len(Y_pred)"
   ]
  },
  {
   "cell_type": "code",
   "execution_count": 84,
   "id": "acb028ae",
   "metadata": {},
   "outputs": [
    {
     "name": "stdout",
     "output_type": "stream",
     "text": [
      "[[3.9490857e-03 2.8145596e-04 9.9576950e-01]\n",
      " [9.9296314e-01 3.0321185e-04 6.7336638e-03]\n",
      " [9.9973512e-01 2.4535859e-04 1.9590025e-05]\n",
      " ...\n",
      " [7.4026403e-03 9.8509562e-01 7.5017093e-03]\n",
      " [3.8957417e-01 6.0691130e-01 3.5144966e-03]\n",
      " [6.6013658e-06 5.6339145e-06 9.9998772e-01]]\n"
     ]
    }
   ],
   "source": [
    "print(Y_pred)"
   ]
  },
  {
   "cell_type": "code",
   "execution_count": 85,
   "id": "1132cdc9",
   "metadata": {},
   "outputs": [
    {
     "name": "stdout",
     "output_type": "stream",
     "text": [
      "['positive', 'negative', 'negative', 'negative', 'positive', 'negative', 'positive', 'positive', 'positive', 'neutral', 'negative', 'neutral', 'positive', 'positive', 'neutral', 'positive', 'neutral', 'negative', 'negative', 'positive', 'negative', 'neutral', 'negative', 'neutral', 'neutral', 'negative', 'neutral', 'negative', 'positive', 'positive', 'positive', 'negative', 'positive', 'positive', 'neutral', 'negative', 'neutral', 'positive', 'positive', 'neutral', 'neutral', 'negative', 'neutral', 'negative', 'positive', 'negative', 'negative', 'negative', 'neutral', 'positive', 'positive', 'negative', 'neutral', 'positive', 'positive', 'negative', 'negative', 'negative', 'positive', 'negative', 'positive', 'negative', 'positive', 'positive', 'negative', 'negative', 'neutral', 'negative', 'positive', 'negative', 'negative', 'negative', 'negative', 'negative', 'positive', 'negative', 'negative', 'positive', 'positive', 'neutral', 'positive', 'neutral', 'neutral', 'neutral', 'positive', 'neutral', 'positive', 'positive', 'positive', 'negative', 'positive', 'positive', 'positive', 'positive', 'positive', 'positive', 'negative', 'positive', 'neutral', 'positive', 'negative', 'positive', 'positive', 'negative', 'negative', 'neutral', 'neutral', 'positive', 'positive', 'negative', 'negative', 'positive', 'neutral', 'neutral', 'negative', 'neutral', 'negative', 'positive', 'positive', 'negative', 'neutral', 'negative', 'neutral', 'positive', 'positive', 'neutral', 'neutral', 'positive', 'negative', 'negative', 'negative', 'positive', 'neutral', 'neutral', 'positive', 'neutral', 'negative', 'negative', 'positive', 'neutral', 'positive', 'positive', 'neutral', 'neutral', 'negative', 'neutral', 'positive', 'positive', 'neutral', 'neutral', 'negative', 'neutral', 'negative', 'negative', 'neutral', 'neutral', 'negative', 'negative', 'neutral', 'neutral', 'negative', 'positive', 'neutral', 'negative', 'positive', 'positive', 'positive', 'neutral', 'neutral', 'positive', 'positive', 'negative', 'positive', 'neutral', 'positive', 'neutral', 'positive', 'neutral', 'negative', 'negative', 'negative', 'negative', 'negative', 'negative', 'positive', 'negative', 'neutral', 'neutral', 'negative', 'positive', 'negative', 'negative', 'negative', 'positive', 'negative', 'negative', 'negative', 'negative', 'negative', 'neutral', 'neutral', 'negative', 'neutral', 'neutral', 'positive', 'neutral', 'positive', 'positive', 'negative', 'neutral', 'neutral', 'positive', 'positive', 'neutral', 'neutral', 'negative', 'negative', 'negative', 'neutral', 'negative', 'positive', 'neutral', 'negative', 'negative', 'negative', 'negative', 'positive', 'negative', 'negative', 'positive', 'negative', 'negative', 'negative', 'negative', 'positive', 'positive', 'negative', 'positive', 'negative', 'negative', 'negative', 'neutral', 'negative', 'neutral', 'positive', 'positive', 'positive', 'negative', 'negative', 'negative', 'neutral', 'negative', 'neutral', 'neutral', 'neutral', 'positive', 'neutral', 'negative', 'negative', 'negative', 'neutral', 'neutral', 'negative', 'positive', 'negative', 'positive', 'neutral', 'positive', 'neutral', 'negative', 'neutral', 'positive', 'negative', 'negative', 'positive', 'positive', 'neutral', 'positive', 'negative', 'negative', 'positive', 'negative', 'negative', 'negative', 'neutral', 'positive', 'neutral', 'negative', 'negative', 'neutral', 'positive', 'negative', 'negative', 'neutral', 'neutral', 'positive', 'positive', 'positive', 'positive', 'neutral', 'negative', 'neutral', 'negative', 'negative', 'neutral', 'positive', 'positive', 'negative', 'positive', 'neutral', 'negative', 'negative', 'negative', 'negative', 'neutral', 'neutral', 'positive', 'positive', 'neutral', 'positive', 'negative', 'neutral', 'negative', 'neutral', 'positive', 'positive', 'negative', 'negative', 'negative', 'negative', 'neutral', 'negative', 'neutral', 'negative', 'negative', 'neutral', 'negative', 'positive', 'negative', 'positive', 'negative', 'neutral', 'neutral', 'positive', 'negative', 'neutral', 'neutral', 'neutral', 'negative', 'neutral', 'neutral', 'negative', 'neutral', 'negative', 'positive', 'neutral', 'positive', 'positive', 'negative', 'negative', 'negative', 'negative', 'negative', 'neutral', 'neutral', 'positive', 'positive', 'negative', 'negative', 'positive', 'positive', 'positive', 'positive', 'positive', 'negative', 'neutral', 'negative', 'negative', 'neutral', 'negative', 'negative', 'positive', 'negative', 'positive', 'neutral', 'neutral', 'neutral', 'neutral', 'positive', 'neutral', 'negative', 'neutral', 'negative', 'negative', 'negative', 'negative', 'negative', 'neutral', 'neutral', 'positive', 'neutral', 'negative', 'positive', 'negative', 'neutral', 'negative', 'positive', 'neutral', 'positive', 'negative', 'negative', 'neutral', 'negative', 'negative', 'positive', 'negative', 'positive', 'negative', 'negative', 'neutral', 'negative', 'neutral', 'negative', 'positive', 'neutral', 'positive', 'neutral', 'negative', 'positive', 'positive', 'negative', 'negative', 'positive', 'neutral', 'positive', 'neutral', 'negative', 'positive', 'positive', 'positive', 'positive', 'neutral', 'negative', 'negative', 'neutral', 'positive', 'neutral', 'negative', 'negative', 'negative', 'negative', 'positive', 'neutral', 'negative', 'positive', 'negative', 'negative', 'negative', 'neutral', 'negative', 'neutral', 'negative', 'positive', 'positive', 'negative', 'positive', 'neutral', 'neutral', 'negative', 'positive', 'neutral', 'positive', 'neutral', 'negative', 'positive', 'positive', 'negative', 'negative', 'neutral', 'neutral', 'negative', 'negative', 'neutral', 'positive', 'neutral', 'neutral', 'negative', 'positive', 'negative', 'neutral', 'neutral', 'negative', 'neutral', 'negative', 'negative', 'neutral', 'neutral', 'neutral', 'positive', 'neutral', 'neutral', 'positive', 'positive', 'positive', 'negative', 'positive', 'neutral', 'negative', 'positive', 'positive', 'negative', 'negative', 'positive', 'negative', 'negative', 'neutral', 'negative', 'neutral', 'neutral', 'neutral', 'negative', 'positive', 'negative', 'neutral', 'negative', 'negative', 'negative', 'neutral', 'positive', 'negative', 'negative', 'positive', 'negative', 'negative', 'negative', 'negative', 'positive', 'neutral', 'negative', 'negative', 'neutral', 'negative', 'negative', 'neutral', 'negative', 'negative', 'negative', 'negative', 'negative', 'negative', 'neutral', 'neutral', 'negative', 'neutral', 'negative', 'negative', 'neutral', 'neutral', 'positive', 'negative', 'neutral', 'negative', 'negative', 'positive', 'negative', 'positive', 'neutral', 'neutral', 'negative', 'negative', 'neutral', 'negative', 'positive', 'positive', 'negative', 'negative', 'negative', 'positive', 'negative', 'neutral', 'neutral', 'neutral', 'negative', 'negative', 'neutral', 'negative', 'positive', 'negative', 'negative', 'positive', 'positive', 'positive', 'negative', 'negative', 'neutral', 'neutral', 'negative', 'negative', 'negative', 'neutral', 'neutral', 'negative', 'negative', 'positive', 'neutral', 'negative', 'negative', 'neutral', 'neutral', 'neutral', 'positive', 'positive', 'negative', 'neutral', 'positive', 'positive', 'negative', 'neutral', 'neutral', 'negative', 'positive', 'positive', 'negative', 'neutral', 'negative', 'positive', 'negative', 'neutral', 'negative', 'negative', 'positive', 'negative', 'neutral', 'positive', 'positive', 'positive', 'positive', 'positive', 'positive', 'positive', 'negative', 'positive', 'negative', 'neutral', 'positive', 'negative', 'positive', 'negative', 'negative', 'negative', 'negative', 'negative', 'negative', 'negative', 'neutral', 'negative', 'neutral', 'neutral', 'positive', 'negative', 'negative', 'positive', 'positive', 'negative', 'positive', 'negative', 'negative', 'negative', 'neutral', 'positive', 'negative', 'neutral', 'positive', 'positive', 'neutral', 'negative', 'positive', 'positive', 'negative', 'negative', 'negative', 'negative', 'negative', 'negative', 'negative', 'negative', 'positive', 'negative', 'negative', 'neutral', 'positive', 'negative', 'negative', 'neutral', 'positive', 'negative', 'negative', 'positive', 'negative', 'neutral', 'neutral', 'negative', 'neutral', 'neutral', 'positive', 'neutral', 'neutral', 'negative', 'negative', 'positive', 'negative', 'neutral', 'neutral', 'neutral', 'negative', 'positive', 'negative', 'positive', 'positive', 'positive', 'neutral', 'positive', 'negative', 'neutral', 'negative', 'positive', 'neutral', 'neutral', 'negative', 'neutral', 'neutral', 'negative', 'positive', 'negative', 'positive', 'neutral', 'neutral', 'negative', 'negative', 'neutral', 'negative', 'positive', 'negative', 'positive', 'neutral', 'neutral', 'negative', 'negative', 'neutral', 'negative', 'neutral', 'positive', 'negative', 'positive', 'positive', 'positive', 'positive', 'negative', 'positive', 'negative', 'negative', 'positive', 'negative', 'positive', 'neutral', 'neutral', 'positive', 'positive', 'negative', 'neutral', 'negative', 'positive', 'negative', 'negative', 'negative', 'negative', 'negative', 'neutral', 'neutral', 'negative', 'negative', 'positive', 'negative', 'negative', 'negative', 'negative', 'neutral', 'negative', 'positive', 'positive', 'positive', 'neutral', 'negative', 'positive', 'positive', 'neutral', 'negative', 'positive', 'negative', 'neutral', 'neutral', 'negative', 'neutral', 'positive', 'positive', 'negative', 'positive', 'negative', 'positive', 'negative', 'neutral', 'neutral', 'negative', 'neutral', 'negative', 'negative', 'positive', 'positive', 'negative', 'positive', 'positive', 'negative', 'positive', 'neutral', 'neutral', 'negative', 'positive', 'positive', 'negative', 'negative', 'negative', 'neutral', 'negative', 'positive', 'negative', 'negative', 'positive', 'negative', 'positive', 'negative', 'positive', 'positive', 'negative', 'positive', 'negative', 'negative', 'negative', 'positive', 'negative', 'negative', 'negative', 'negative', 'neutral', 'negative', 'neutral', 'negative', 'negative', 'negative', 'negative', 'neutral', 'negative', 'neutral', 'positive', 'positive', 'positive', 'negative', 'positive', 'positive', 'neutral', 'neutral', 'positive', 'neutral', 'negative', 'positive', 'positive', 'neutral', 'positive', 'negative', 'positive', 'neutral', 'negative', 'positive', 'neutral', 'negative', 'positive', 'negative', 'positive', 'neutral', 'negative', 'positive', 'negative', 'positive', 'negative', 'positive', 'neutral', 'negative', 'neutral', 'positive', 'neutral', 'negative', 'neutral', 'neutral', 'neutral', 'negative', 'negative', 'negative', 'positive', 'neutral', 'positive', 'negative', 'negative', 'neutral', 'negative', 'negative', 'positive', 'negative', 'negative', 'positive', 'negative', 'positive', 'negative', 'negative', 'negative', 'neutral', 'negative', 'neutral', 'negative', 'negative', 'positive', 'negative', 'neutral', 'positive', 'negative', 'negative', 'neutral', 'positive', 'negative', 'neutral', 'negative', 'neutral', 'negative', 'negative', 'positive', 'neutral', 'positive', 'positive', 'neutral', 'positive', 'positive', 'negative', 'neutral', 'negative', 'positive', 'positive', 'negative', 'negative', 'negative', 'positive', 'neutral', 'positive', 'negative', 'negative', 'positive', 'negative', 'neutral', 'positive', 'negative', 'positive', 'negative', 'negative', 'neutral', 'positive', 'positive', 'neutral', 'negative', 'neutral', 'neutral', 'positive', 'positive', 'negative', 'negative', 'positive', 'positive', 'negative', 'negative', 'positive', 'positive', 'positive', 'neutral', 'neutral', 'positive', 'negative', 'negative', 'negative', 'negative', 'neutral', 'negative', 'positive', 'neutral', 'positive', 'neutral', 'positive', 'negative', 'negative', 'positive', 'positive', 'neutral', 'positive', 'negative', 'neutral', 'positive', 'neutral', 'positive', 'positive', 'negative', 'neutral', 'negative', 'negative', 'negative', 'positive', 'neutral', 'neutral', 'positive', 'positive', 'positive', 'neutral', 'positive', 'positive', 'neutral', 'neutral', 'negative', 'negative', 'neutral', 'negative', 'neutral', 'neutral', 'negative', 'neutral', 'positive', 'negative', 'negative', 'neutral', 'neutral', 'neutral', 'negative', 'positive', 'positive', 'positive', 'negative', 'negative', 'neutral', 'negative', 'negative', 'positive', 'negative', 'neutral', 'neutral', 'positive', 'positive', 'negative', 'negative', 'negative', 'negative', 'negative', 'positive', 'negative', 'negative', 'neutral', 'positive', 'negative', 'neutral', 'positive', 'neutral', 'negative', 'neutral', 'neutral', 'negative', 'positive', 'positive', 'positive', 'positive', 'neutral', 'negative', 'negative', 'negative', 'neutral', 'neutral', 'negative', 'neutral', 'positive', 'positive', 'negative', 'negative', 'negative', 'negative', 'negative', 'positive', 'positive', 'positive', 'negative', 'positive', 'negative', 'negative', 'negative', 'negative', 'positive', 'negative', 'negative', 'positive', 'negative', 'negative', 'negative', 'positive', 'positive', 'negative', 'negative', 'negative', 'positive', 'neutral', 'negative', 'positive', 'negative', 'neutral', 'positive', 'negative', 'neutral', 'negative', 'positive', 'neutral', 'negative', 'neutral', 'neutral', 'neutral', 'neutral', 'neutral', 'negative', 'neutral', 'positive', 'negative', 'positive', 'negative', 'neutral', 'neutral', 'neutral', 'positive', 'negative', 'negative', 'positive', 'negative', 'positive', 'negative', 'negative', 'neutral', 'positive', 'positive', 'positive', 'positive', 'negative', 'negative', 'positive', 'positive', 'neutral', 'positive', 'neutral', 'neutral', 'negative', 'negative', 'positive', 'negative', 'neutral', 'neutral', 'positive', 'negative', 'neutral', 'neutral', 'positive', 'negative', 'neutral', 'positive', 'positive', 'positive', 'negative', 'negative', 'positive', 'positive', 'positive', 'negative', 'negative', 'neutral', 'positive', 'positive', 'neutral', 'negative', 'negative', 'positive', 'positive', 'negative', 'neutral', 'negative', 'neutral', 'positive', 'neutral', 'neutral', 'positive', 'positive', 'negative', 'positive', 'positive', 'neutral', 'negative', 'negative', 'negative', 'neutral', 'neutral', 'neutral', 'positive', 'neutral', 'negative', 'negative', 'positive', 'positive', 'negative', 'negative', 'positive', 'negative', 'positive', 'negative', 'neutral', 'neutral', 'positive', 'negative', 'negative', 'negative', 'neutral', 'positive', 'neutral', 'negative', 'positive', 'positive', 'positive', 'positive', 'neutral', 'positive', 'neutral', 'negative', 'negative', 'negative', 'negative', 'neutral', 'positive', 'negative', 'positive', 'negative', 'negative', 'negative', 'neutral', 'negative', 'positive', 'negative', 'neutral', 'neutral', 'negative', 'neutral', 'negative', 'positive', 'positive', 'negative', 'neutral', 'neutral', 'positive', 'positive', 'neutral', 'negative', 'neutral', 'neutral', 'negative', 'negative', 'negative', 'negative', 'positive', 'negative', 'negative', 'neutral', 'positive', 'negative', 'positive', 'negative', 'positive', 'negative', 'positive', 'negative', 'neutral', 'positive', 'neutral', 'positive', 'negative', 'negative', 'neutral', 'negative', 'negative', 'neutral', 'neutral', 'neutral', 'negative', 'negative', 'negative', 'neutral', 'negative', 'negative', 'negative', 'neutral', 'positive', 'negative', 'neutral', 'positive', 'negative', 'negative', 'neutral', 'positive', 'neutral', 'negative', 'positive', 'negative', 'negative', 'negative', 'positive', 'positive', 'positive', 'negative', 'neutral', 'positive', 'neutral', 'positive', 'positive', 'positive', 'negative', 'positive', 'positive', 'neutral', 'negative', 'positive', 'positive', 'positive', 'positive', 'positive', 'neutral', 'negative', 'negative', 'neutral', 'negative', 'positive', 'negative', 'neutral', 'neutral', 'positive', 'negative', 'negative', 'neutral', 'positive', 'neutral', 'positive', 'negative', 'neutral', 'positive', 'positive', 'neutral', 'negative', 'positive', 'neutral', 'negative', 'positive', 'negative', 'neutral', 'negative', 'positive', 'neutral', 'negative', 'positive', 'neutral', 'negative', 'negative', 'neutral', 'negative', 'negative', 'negative', 'negative', 'positive', 'negative', 'negative', 'neutral', 'positive', 'negative', 'neutral', 'negative', 'neutral', 'negative', 'negative', 'negative', 'positive', 'positive', 'positive', 'negative', 'negative', 'neutral', 'positive', 'neutral', 'positive', 'neutral', 'negative', 'positive', 'neutral', 'neutral', 'negative', 'negative', 'neutral', 'negative', 'negative', 'positive', 'neutral', 'positive', 'negative', 'neutral', 'positive', 'negative', 'negative', 'positive', 'positive', 'positive', 'negative', 'negative', 'negative', 'negative', 'positive', 'neutral', 'negative', 'positive', 'negative', 'positive', 'negative', 'positive', 'negative', 'neutral', 'positive', 'positive', 'neutral', 'neutral', 'positive', 'positive', 'positive', 'negative', 'neutral', 'positive', 'neutral', 'positive', 'positive', 'positive', 'positive', 'positive', 'neutral', 'positive', 'negative', 'negative', 'neutral', 'positive', 'positive', 'positive', 'negative', 'negative', 'negative', 'neutral', 'negative', 'positive', 'neutral', 'negative', 'negative', 'positive', 'positive', 'negative', 'negative', 'positive', 'negative', 'negative', 'neutral', 'neutral', 'positive', 'positive', 'negative', 'positive', 'neutral', 'positive', 'neutral', 'neutral', 'negative', 'positive', 'neutral', 'negative', 'positive', 'neutral', 'neutral', 'neutral', 'positive', 'neutral', 'positive', 'positive', 'negative', 'negative', 'negative', 'negative', 'positive', 'negative', 'positive', 'negative', 'negative', 'positive', 'positive', 'positive', 'negative', 'negative', 'positive', 'positive', 'positive', 'negative', 'neutral', 'positive', 'negative', 'negative', 'positive', 'positive', 'neutral', 'positive', 'negative', 'neutral', 'neutral', 'positive', 'positive', 'negative', 'neutral', 'neutral', 'positive', 'negative', 'positive', 'negative', 'negative', 'neutral', 'positive', 'negative', 'neutral', 'negative', 'positive', 'negative', 'neutral', 'negative', 'negative', 'neutral', 'positive', 'neutral', 'positive', 'negative', 'negative', 'neutral', 'positive', 'positive', 'positive', 'negative', 'positive', 'negative', 'positive', 'neutral', 'negative', 'neutral', 'negative', 'positive', 'positive', 'negative', 'neutral', 'negative', 'negative', 'neutral', 'positive', 'positive', 'neutral', 'positive', 'neutral', 'positive', 'positive', 'positive', 'positive', 'neutral', 'neutral', 'neutral', 'neutral', 'neutral', 'neutral', 'negative', 'positive', 'positive', 'positive', 'negative', 'positive', 'negative', 'neutral', 'positive', 'negative', 'positive', 'positive', 'negative', 'positive', 'positive', 'negative', 'negative', 'neutral', 'neutral', 'negative', 'positive', 'positive', 'positive', 'negative', 'neutral', 'negative', 'positive', 'positive', 'negative', 'negative', 'neutral', 'negative', 'negative', 'positive', 'positive', 'negative', 'positive', 'positive', 'neutral', 'positive', 'negative', 'positive', 'negative', 'neutral', 'positive', 'positive', 'positive', 'negative', 'positive', 'positive', 'positive', 'negative', 'positive', 'neutral', 'neutral', 'positive', 'neutral', 'negative', 'positive', 'neutral', 'negative', 'neutral', 'neutral', 'positive', 'negative', 'positive', 'neutral', 'negative', 'negative', 'positive', 'neutral', 'neutral', 'positive', 'neutral', 'neutral', 'neutral', 'neutral', 'positive', 'negative', 'positive', 'negative', 'neutral', 'positive', 'negative', 'positive', 'neutral', 'neutral', 'negative', 'negative', 'positive', 'negative', 'positive', 'neutral', 'positive', 'negative', 'positive', 'neutral', 'negative', 'negative', 'neutral', 'neutral', 'neutral', 'negative', 'positive', 'neutral', 'neutral', 'positive', 'negative', 'neutral', 'positive', 'neutral', 'positive', 'negative', 'positive', 'negative', 'negative', 'negative', 'negative', 'positive', 'positive', 'positive', 'neutral', 'negative', 'negative', 'neutral', 'neutral', 'neutral', 'neutral', 'negative', 'negative', 'negative', 'negative', 'negative', 'negative', 'neutral', 'neutral', 'neutral', 'negative', 'negative', 'negative', 'positive', 'positive', 'neutral', 'positive', 'negative', 'negative', 'negative', 'neutral', 'positive', 'positive', 'negative', 'positive', 'negative', 'positive', 'negative', 'positive', 'negative', 'positive', 'positive', 'neutral', 'neutral', 'neutral', 'neutral', 'positive', 'positive', 'neutral', 'negative', 'negative', 'negative', 'positive', 'neutral', 'negative', 'neutral', 'neutral', 'positive', 'positive', 'negative', 'positive', 'positive', 'positive', 'neutral', 'positive', 'negative', 'negative', 'neutral', 'negative', 'negative', 'negative', 'negative', 'negative', 'negative', 'neutral', 'negative', 'negative', 'positive', 'neutral', 'positive', 'neutral', 'neutral', 'neutral', 'positive', 'negative', 'negative', 'negative', 'neutral', 'neutral', 'neutral', 'neutral', 'negative', 'neutral', 'neutral', 'positive', 'negative', 'negative', 'positive', 'neutral', 'negative', 'positive', 'negative', 'negative', 'neutral', 'neutral', 'positive', 'neutral', 'positive', 'negative', 'positive', 'negative', 'neutral', 'neutral', 'negative', 'positive', 'negative', 'neutral', 'negative', 'neutral', 'positive', 'negative', 'negative', 'negative', 'negative', 'positive', 'negative', 'negative', 'negative', 'positive', 'positive', 'negative', 'neutral', 'neutral', 'neutral', 'negative', 'negative', 'positive', 'positive', 'neutral', 'positive', 'positive', 'negative', 'neutral', 'negative', 'neutral', 'negative', 'neutral', 'neutral', 'positive', 'neutral', 'positive', 'negative', 'negative', 'positive', 'negative', 'neutral', 'positive', 'positive', 'negative', 'neutral', 'positive', 'negative', 'negative', 'neutral', 'negative', 'positive', 'negative', 'neutral', 'negative', 'neutral', 'positive', 'negative', 'negative', 'negative', 'neutral', 'positive', 'positive', 'negative', 'neutral', 'neutral', 'positive', 'negative', 'negative', 'negative', 'negative', 'positive', 'negative', 'neutral', 'negative', 'negative', 'neutral', 'negative', 'negative', 'negative', 'negative', 'negative', 'neutral', 'negative', 'negative', 'positive', 'positive', 'neutral', 'neutral', 'neutral', 'neutral', 'negative', 'neutral', 'negative', 'negative', 'neutral', 'negative', 'neutral', 'neutral', 'negative', 'neutral', 'positive', 'neutral', 'negative', 'positive', 'neutral', 'neutral', 'neutral', 'positive', 'positive', 'negative', 'negative', 'negative', 'neutral', 'negative', 'neutral', 'neutral', 'negative', 'negative', 'neutral', 'positive', 'negative', 'negative', 'positive', 'neutral', 'negative', 'neutral', 'negative', 'neutral', 'positive', 'positive', 'positive', 'neutral', 'neutral', 'positive', 'neutral', 'negative', 'neutral', 'negative', 'negative', 'negative', 'negative', 'positive', 'positive', 'positive', 'negative', 'negative', 'neutral', 'positive', 'neutral', 'negative', 'negative', 'positive', 'positive', 'positive', 'negative', 'negative', 'neutral', 'neutral', 'negative', 'neutral', 'neutral', 'negative', 'neutral', 'positive', 'positive', 'negative', 'neutral', 'negative', 'positive', 'positive', 'negative', 'neutral', 'neutral', 'neutral', 'neutral', 'negative', 'negative', 'neutral', 'negative', 'positive', 'neutral', 'positive', 'positive', 'neutral', 'positive', 'neutral', 'neutral', 'neutral', 'negative', 'neutral', 'negative', 'positive', 'neutral', 'positive', 'negative', 'positive', 'neutral', 'positive', 'negative', 'neutral', 'positive', 'positive', 'negative', 'positive', 'neutral', 'negative', 'neutral', 'negative', 'neutral', 'positive', 'neutral', 'neutral', 'negative', 'positive', 'negative', 'neutral', 'neutral', 'positive', 'negative', 'neutral', 'neutral', 'neutral', 'positive', 'neutral', 'positive', 'negative', 'neutral', 'negative', 'positive', 'negative', 'positive', 'negative', 'negative', 'negative', 'positive', 'positive', 'negative', 'positive', 'positive', 'neutral', 'negative', 'neutral', 'neutral', 'neutral', 'positive', 'neutral', 'positive', 'neutral', 'positive', 'negative', 'negative', 'neutral', 'negative', 'neutral', 'negative', 'positive', 'neutral', 'negative', 'positive', 'negative', 'neutral', 'neutral', 'positive', 'positive', 'positive', 'positive', 'positive', 'negative', 'neutral', 'negative', 'positive', 'negative', 'negative', 'neutral', 'neutral', 'negative', 'negative', 'negative', 'positive', 'positive', 'neutral', 'positive', 'positive', 'negative', 'positive', 'neutral', 'negative', 'positive', 'neutral', 'neutral', 'negative', 'positive', 'neutral', 'negative', 'positive', 'negative', 'negative', 'positive', 'negative', 'negative', 'positive', 'negative', 'negative', 'neutral', 'neutral', 'positive', 'negative', 'positive', 'negative', 'neutral', 'positive', 'neutral', 'negative', 'negative', 'negative', 'positive', 'neutral', 'neutral', 'neutral', 'negative', 'negative', 'positive', 'positive', 'neutral', 'neutral', 'negative', 'neutral', 'negative', 'neutral', 'negative', 'negative', 'positive', 'positive', 'neutral', 'positive', 'positive', 'neutral', 'negative', 'neutral', 'negative', 'neutral', 'negative', 'neutral', 'negative', 'negative', 'negative', 'neutral', 'positive', 'negative', 'positive', 'negative', 'neutral', 'neutral', 'positive', 'positive', 'negative', 'neutral', 'positive', 'neutral', 'positive', 'neutral', 'positive', 'positive', 'negative', 'negative', 'negative', 'negative', 'negative', 'neutral', 'negative', 'negative', 'positive', 'negative', 'neutral', 'negative', 'negative', 'negative', 'positive', 'positive', 'neutral', 'negative', 'positive', 'positive', 'positive', 'negative', 'positive', 'negative', 'positive', 'neutral', 'positive', 'positive', 'positive', 'neutral', 'positive', 'positive', 'neutral', 'negative', 'positive', 'positive', 'positive', 'neutral', 'neutral', 'neutral', 'negative', 'positive', 'positive', 'positive', 'positive', 'positive', 'negative', 'positive', 'negative', 'positive', 'positive', 'negative', 'positive', 'negative', 'neutral', 'neutral', 'neutral', 'neutral', 'neutral', 'positive', 'negative', 'positive', 'neutral', 'neutral', 'negative', 'neutral', 'positive', 'negative', 'positive', 'neutral', 'neutral', 'neutral', 'negative', 'neutral', 'negative', 'neutral', 'neutral', 'neutral', 'neutral', 'neutral', 'positive', 'neutral', 'positive', 'positive', 'negative', 'negative', 'positive', 'neutral', 'negative', 'neutral', 'negative', 'neutral', 'positive', 'negative', 'neutral', 'positive', 'neutral', 'neutral', 'neutral', 'positive', 'positive', 'negative', 'negative', 'neutral', 'neutral', 'positive', 'negative', 'negative', 'neutral', 'neutral', 'negative', 'negative', 'negative', 'negative', 'positive', 'negative', 'negative', 'negative', 'positive', 'neutral', 'negative', 'neutral', 'neutral', 'positive', 'negative', 'negative', 'neutral', 'negative', 'neutral', 'positive', 'negative', 'negative', 'positive', 'negative', 'neutral', 'neutral', 'positive', 'neutral', 'positive', 'positive', 'neutral', 'negative', 'positive', 'negative', 'positive', 'neutral', 'neutral', 'negative', 'positive', 'positive', 'neutral', 'negative', 'negative', 'negative', 'neutral', 'neutral', 'negative', 'neutral', 'negative', 'neutral', 'neutral', 'neutral', 'negative', 'positive', 'negative', 'neutral', 'neutral', 'positive', 'negative', 'positive', 'negative', 'positive', 'negative', 'neutral', 'neutral', 'negative', 'neutral', 'positive', 'positive', 'neutral', 'negative', 'neutral', 'positive', 'neutral', 'negative', 'neutral', 'positive', 'negative', 'positive', 'positive', 'neutral', 'positive', 'negative', 'neutral', 'neutral', 'negative', 'positive', 'neutral', 'neutral', 'positive', 'neutral', 'negative', 'neutral', 'negative', 'neutral', 'neutral', 'neutral', 'neutral', 'positive', 'neutral', 'positive', 'negative', 'negative', 'neutral', 'negative', 'neutral', 'positive', 'positive', 'neutral', 'neutral', 'neutral', 'positive', 'neutral', 'negative', 'positive', 'positive', 'positive', 'negative', 'negative', 'neutral', 'negative', 'negative', 'positive', 'positive', 'negative', 'positive', 'negative', 'neutral', 'negative', 'neutral', 'neutral', 'neutral', 'negative', 'neutral', 'positive', 'positive', 'neutral', 'neutral', 'positive', 'positive', 'negative', 'negative', 'positive', 'neutral', 'neutral', 'neutral', 'negative', 'positive', 'negative', 'negative', 'negative', 'negative', 'positive', 'neutral', 'positive', 'neutral', 'neutral', 'neutral', 'negative', 'negative', 'positive', 'neutral', 'negative', 'neutral', 'positive', 'negative', 'positive', 'negative', 'positive', 'neutral', 'negative', 'neutral', 'negative', 'neutral', 'negative', 'neutral', 'negative', 'positive', 'positive', 'negative', 'negative', 'positive', 'negative', 'negative', 'positive', 'negative', 'positive', 'positive', 'negative', 'negative', 'neutral', 'neutral', 'neutral', 'negative', 'negative', 'negative', 'negative', 'neutral', 'negative', 'neutral', 'negative', 'positive', 'negative', 'neutral', 'neutral', 'negative', 'negative', 'positive', 'neutral', 'positive', 'negative', 'negative', 'positive', 'positive', 'neutral', 'positive', 'positive', 'negative', 'neutral', 'neutral', 'negative', 'positive', 'negative', 'negative', 'neutral', 'negative', 'neutral', 'positive', 'negative', 'negative', 'negative', 'negative', 'negative', 'neutral', 'neutral', 'negative', 'neutral', 'negative', 'neutral', 'neutral', 'negative', 'positive', 'positive', 'neutral', 'neutral', 'positive', 'negative', 'positive', 'negative', 'neutral', 'negative', 'neutral', 'positive', 'negative', 'negative', 'neutral', 'positive', 'neutral', 'positive', 'neutral', 'neutral', 'negative', 'neutral', 'neutral', 'neutral', 'negative', 'negative', 'neutral', 'negative', 'positive', 'positive', 'neutral', 'negative', 'neutral', 'negative', 'positive', 'neutral', 'neutral', 'neutral', 'neutral', 'neutral', 'negative', 'negative', 'positive', 'positive', 'neutral', 'positive', 'negative', 'positive', 'negative', 'neutral', 'positive', 'neutral', 'neutral', 'negative', 'negative', 'negative', 'negative', 'neutral', 'negative', 'negative', 'negative', 'neutral', 'negative', 'positive', 'negative', 'negative', 'positive', 'positive', 'neutral', 'negative', 'positive', 'negative', 'neutral', 'negative', 'negative', 'negative', 'neutral', 'neutral', 'positive', 'positive', 'neutral', 'positive', 'positive', 'neutral', 'negative', 'negative', 'negative', 'neutral', 'negative', 'positive', 'positive', 'positive', 'positive', 'positive', 'negative', 'negative', 'positive', 'neutral', 'positive', 'neutral', 'neutral', 'negative', 'negative', 'neutral', 'neutral', 'positive', 'neutral', 'positive', 'negative', 'negative', 'neutral', 'negative', 'positive', 'negative', 'positive', 'positive', 'positive', 'positive', 'neutral', 'neutral', 'positive', 'positive', 'negative', 'neutral', 'neutral', 'neutral', 'positive', 'neutral', 'positive', 'positive', 'negative', 'neutral', 'positive', 'negative', 'positive', 'negative', 'negative', 'neutral', 'neutral', 'negative', 'negative', 'positive', 'negative', 'positive', 'negative', 'negative', 'negative', 'negative', 'neutral', 'positive', 'positive', 'negative', 'neutral', 'positive', 'negative', 'neutral', 'negative', 'positive', 'negative', 'negative', 'negative', 'negative', 'positive', 'negative', 'positive', 'neutral', 'neutral', 'positive', 'negative', 'negative', 'negative', 'neutral', 'negative', 'neutral', 'negative', 'negative', 'positive', 'negative', 'negative', 'negative', 'positive', 'positive', 'negative', 'positive', 'positive', 'positive', 'positive', 'neutral', 'positive', 'neutral', 'negative', 'negative', 'negative', 'positive', 'neutral', 'negative', 'positive', 'negative', 'positive', 'positive', 'negative', 'positive', 'negative', 'neutral', 'negative', 'negative', 'positive', 'negative', 'neutral', 'neutral', 'negative', 'positive', 'positive', 'neutral', 'positive', 'negative', 'neutral', 'neutral', 'negative', 'negative', 'positive', 'negative', 'negative', 'negative', 'positive', 'positive', 'neutral', 'positive', 'positive', 'negative', 'positive', 'negative', 'positive', 'negative', 'positive', 'negative', 'negative', 'positive', 'neutral', 'negative', 'negative', 'negative', 'neutral', 'neutral', 'negative', 'negative', 'positive', 'negative', 'positive', 'negative', 'positive', 'neutral', 'positive', 'neutral', 'positive', 'neutral', 'positive', 'neutral', 'negative', 'positive', 'negative', 'negative', 'positive', 'negative', 'negative', 'positive', 'neutral', 'negative', 'negative', 'neutral', 'positive', 'positive', 'positive', 'negative', 'positive', 'positive', 'negative', 'negative', 'neutral', 'positive', 'neutral', 'negative', 'negative', 'negative', 'positive', 'neutral', 'positive', 'positive', 'positive', 'negative', 'neutral', 'positive', 'negative', 'positive', 'positive', 'negative', 'positive', 'negative', 'neutral', 'negative', 'negative', 'positive', 'neutral', 'neutral', 'positive', 'negative', 'negative', 'negative', 'neutral', 'positive', 'negative', 'negative', 'negative', 'negative', 'negative', 'negative', 'negative', 'neutral', 'neutral', 'negative', 'neutral', 'negative', 'negative', 'neutral', 'negative', 'positive', 'negative', 'negative', 'negative', 'neutral', 'positive', 'positive', 'neutral', 'positive', 'negative', 'neutral', 'positive', 'neutral', 'neutral', 'positive', 'positive', 'neutral', 'neutral', 'positive', 'positive', 'neutral', 'neutral', 'neutral', 'positive', 'neutral', 'neutral', 'negative', 'positive', 'neutral', 'neutral', 'negative', 'positive', 'neutral', 'neutral', 'neutral', 'positive', 'negative', 'positive', 'positive', 'negative', 'neutral', 'neutral', 'neutral', 'negative', 'neutral', 'positive', 'negative', 'neutral', 'negative', 'neutral', 'negative', 'positive', 'positive', 'positive', 'negative', 'negative', 'negative', 'negative', 'negative', 'negative', 'negative', 'positive', 'neutral', 'neutral', 'neutral', 'neutral', 'positive', 'positive', 'negative', 'neutral', 'positive', 'positive', 'negative', 'negative', 'neutral', 'negative', 'positive', 'negative', 'positive', 'positive', 'positive', 'neutral', 'negative', 'negative', 'neutral', 'negative', 'positive', 'negative', 'positive', 'positive', 'negative', 'negative', 'positive', 'negative', 'negative', 'neutral', 'positive', 'positive', 'negative', 'positive', 'negative', 'negative', 'neutral', 'negative', 'negative', 'positive', 'negative', 'negative', 'positive', 'negative', 'negative', 'neutral', 'neutral', 'negative', 'positive', 'positive', 'negative', 'neutral', 'negative', 'neutral', 'negative', 'positive', 'neutral', 'positive', 'negative', 'positive', 'negative', 'neutral', 'neutral', 'positive', 'negative', 'negative', 'positive', 'negative', 'positive', 'neutral', 'positive', 'negative', 'neutral', 'positive', 'positive', 'positive', 'negative', 'neutral', 'negative', 'neutral', 'negative', 'negative', 'negative', 'negative', 'negative', 'positive', 'positive', 'neutral', 'positive', 'negative', 'neutral', 'neutral', 'positive', 'negative', 'neutral', 'neutral', 'positive', 'negative', 'neutral', 'negative', 'negative', 'positive', 'positive', 'positive', 'positive', 'negative', 'negative', 'neutral', 'negative', 'positive', 'positive', 'neutral', 'positive', 'negative', 'positive', 'positive', 'positive', 'negative', 'positive', 'neutral', 'neutral', 'neutral', 'negative', 'negative', 'negative', 'positive', 'positive', 'positive', 'negative', 'positive', 'neutral', 'negative', 'neutral', 'negative', 'positive', 'negative', 'negative', 'neutral', 'negative', 'neutral', 'negative', 'negative', 'negative', 'negative', 'negative', 'negative', 'negative', 'positive', 'positive', 'positive', 'positive', 'negative', 'positive', 'negative', 'positive', 'negative', 'positive', 'neutral', 'positive', 'negative', 'negative', 'neutral', 'positive', 'neutral', 'negative', 'negative', 'neutral', 'positive', 'negative', 'negative', 'negative', 'neutral', 'neutral', 'negative', 'positive', 'neutral', 'positive', 'positive', 'positive', 'neutral', 'positive', 'negative', 'negative', 'positive', 'neutral', 'neutral', 'negative', 'negative', 'negative', 'positive', 'neutral', 'neutral', 'positive', 'negative', 'neutral', 'neutral', 'positive', 'negative', 'negative', 'positive', 'positive', 'negative', 'neutral', 'negative', 'neutral', 'positive', 'negative', 'neutral', 'negative', 'negative', 'neutral', 'positive', 'negative', 'neutral', 'negative', 'negative', 'neutral', 'neutral', 'positive', 'positive', 'neutral', 'positive', 'negative', 'neutral', 'positive', 'negative', 'positive', 'positive', 'negative', 'neutral', 'neutral', 'neutral', 'negative', 'positive', 'positive', 'negative', 'negative', 'positive', 'negative', 'neutral', 'negative', 'positive', 'neutral', 'negative', 'neutral', 'positive', 'positive', 'negative', 'negative', 'negative', 'neutral', 'negative', 'positive', 'negative', 'negative', 'positive', 'positive', 'negative', 'negative', 'neutral', 'negative', 'positive', 'positive', 'negative', 'neutral', 'neutral', 'positive', 'neutral', 'neutral', 'positive', 'positive', 'negative', 'negative', 'positive', 'negative', 'negative', 'positive', 'positive', 'neutral', 'positive', 'negative', 'positive', 'neutral', 'negative', 'neutral', 'negative', 'positive', 'neutral', 'positive', 'negative', 'negative', 'negative', 'positive', 'neutral', 'positive', 'positive', 'positive', 'negative', 'negative', 'negative', 'positive', 'negative', 'negative', 'negative', 'neutral', 'positive', 'negative', 'negative', 'positive', 'positive', 'positive', 'negative', 'neutral', 'negative', 'negative', 'neutral', 'positive', 'positive', 'neutral', 'negative', 'neutral', 'neutral', 'negative', 'positive', 'neutral', 'neutral', 'negative', 'neutral', 'neutral', 'negative', 'positive', 'negative', 'neutral', 'negative', 'neutral', 'neutral', 'neutral', 'negative', 'positive', 'negative', 'negative', 'positive', 'positive', 'neutral', 'negative', 'negative', 'negative', 'neutral', 'positive', 'negative', 'positive', 'negative', 'neutral', 'negative', 'positive', 'negative', 'positive', 'neutral', 'neutral', 'negative', 'positive', 'positive', 'neutral', 'positive', 'positive', 'negative', 'positive', 'negative', 'neutral', 'negative', 'positive', 'positive', 'negative', 'neutral', 'positive', 'neutral', 'neutral', 'negative', 'negative', 'negative', 'neutral', 'negative', 'negative', 'negative', 'neutral', 'positive', 'positive', 'neutral', 'neutral', 'positive', 'neutral', 'positive', 'negative', 'negative', 'negative', 'neutral', 'neutral', 'negative', 'neutral', 'neutral', 'positive', 'positive', 'negative', 'positive', 'neutral', 'positive', 'positive', 'neutral', 'negative', 'negative', 'neutral', 'negative', 'positive', 'positive', 'negative', 'negative', 'neutral', 'negative', 'neutral', 'negative', 'neutral', 'neutral', 'neutral', 'negative', 'negative', 'negative', 'neutral', 'neutral', 'neutral', 'negative', 'neutral', 'negative', 'negative', 'negative', 'negative', 'positive', 'negative', 'positive', 'neutral', 'negative', 'negative', 'neutral', 'neutral', 'neutral', 'neutral', 'negative', 'negative', 'positive', 'negative', 'positive', 'neutral', 'negative', 'neutral', 'negative', 'neutral', 'negative', 'negative', 'negative', 'positive', 'positive', 'neutral', 'positive', 'negative', 'negative', 'negative', 'neutral', 'negative', 'neutral', 'negative', 'negative', 'neutral', 'neutral', 'negative', 'negative', 'negative', 'negative', 'negative', 'positive', 'positive', 'negative', 'negative', 'negative', 'negative', 'negative', 'positive', 'negative', 'positive', 'positive', 'negative', 'negative', 'neutral', 'negative', 'negative', 'negative', 'negative', 'negative', 'positive', 'neutral', 'neutral', 'negative', 'negative', 'neutral', 'positive', 'positive', 'positive', 'neutral', 'negative', 'negative', 'positive', 'neutral', 'negative', 'negative', 'neutral', 'positive', 'negative', 'positive', 'negative', 'positive', 'negative', 'positive', 'negative', 'negative', 'neutral', 'negative', 'neutral', 'positive', 'positive', 'positive', 'positive', 'negative', 'neutral', 'positive', 'neutral', 'positive', 'negative', 'negative', 'positive', 'neutral', 'neutral', 'positive', 'positive', 'negative', 'positive', 'neutral', 'positive', 'positive', 'neutral', 'neutral', 'negative', 'negative', 'positive', 'positive', 'neutral', 'negative', 'negative', 'negative', 'negative', 'negative', 'positive', 'neutral', 'negative', 'negative', 'positive', 'negative', 'negative', 'positive', 'neutral', 'positive', 'neutral', 'negative', 'positive', 'negative', 'negative', 'negative', 'positive', 'neutral', 'negative', 'negative', 'positive', 'negative', 'negative', 'negative', 'neutral', 'neutral', 'negative', 'neutral', 'positive', 'negative', 'neutral', 'negative', 'negative', 'negative', 'positive', 'neutral', 'positive', 'neutral', 'positive', 'negative', 'positive', 'neutral', 'neutral', 'positive', 'neutral', 'negative', 'negative', 'positive', 'neutral', 'negative', 'negative', 'negative', 'negative', 'positive', 'neutral', 'negative', 'positive', 'negative', 'negative', 'positive', 'positive', 'positive', 'neutral', 'negative', 'positive', 'neutral', 'positive', 'negative', 'positive', 'neutral', 'neutral', 'positive', 'negative', 'negative', 'negative', 'neutral', 'neutral', 'neutral', 'negative', 'neutral', 'neutral', 'negative', 'neutral', 'positive', 'negative', 'negative', 'neutral', 'negative', 'positive', 'negative', 'positive', 'neutral', 'neutral', 'positive', 'positive', 'neutral', 'neutral', 'neutral', 'neutral', 'neutral', 'positive', 'neutral', 'neutral', 'neutral', 'positive', 'negative', 'negative', 'neutral', 'negative', 'positive', 'negative', 'neutral', 'negative', 'negative', 'positive', 'positive', 'negative', 'neutral', 'positive', 'positive', 'negative', 'neutral', 'negative', 'positive', 'neutral', 'neutral', 'neutral', 'negative', 'negative', 'positive', 'positive', 'negative', 'neutral', 'negative', 'positive', 'positive', 'positive', 'negative', 'neutral', 'positive', 'negative', 'positive', 'negative', 'neutral', 'neutral', 'positive', 'negative', 'negative', 'positive', 'negative', 'negative', 'neutral', 'negative', 'negative', 'negative', 'negative', 'negative', 'negative', 'neutral', 'negative', 'negative', 'positive', 'neutral', 'neutral', 'positive', 'neutral', 'negative', 'negative', 'neutral', 'negative', 'negative', 'negative', 'positive', 'negative', 'neutral', 'neutral', 'positive', 'positive', 'positive', 'negative', 'neutral', 'neutral', 'positive', 'neutral', 'neutral', 'neutral', 'negative', 'negative', 'positive', 'neutral', 'positive', 'positive', 'negative', 'positive', 'neutral', 'positive', 'negative', 'positive', 'positive', 'positive', 'positive', 'negative', 'neutral', 'neutral', 'negative', 'positive', 'neutral', 'positive', 'negative', 'neutral', 'negative', 'neutral', 'negative', 'negative', 'negative', 'positive', 'neutral', 'negative', 'negative', 'negative', 'neutral', 'negative', 'neutral', 'negative', 'positive', 'negative', 'positive', 'neutral', 'negative', 'positive', 'positive', 'negative', 'positive', 'neutral', 'neutral', 'positive', 'neutral', 'neutral', 'negative', 'negative', 'positive', 'negative', 'positive', 'negative', 'negative', 'neutral', 'neutral', 'negative', 'neutral', 'negative', 'negative', 'positive', 'neutral', 'positive', 'negative', 'negative', 'positive', 'negative', 'neutral', 'neutral', 'negative', 'neutral', 'positive', 'positive', 'negative', 'positive', 'positive', 'negative', 'positive', 'neutral', 'neutral', 'neutral', 'negative', 'negative', 'negative', 'negative', 'positive', 'negative', 'neutral', 'negative', 'positive', 'positive', 'negative', 'positive', 'negative', 'negative', 'negative', 'neutral', 'neutral', 'negative', 'positive', 'negative', 'positive', 'neutral', 'positive', 'negative', 'negative', 'positive', 'negative', 'negative', 'negative', 'neutral', 'negative', 'neutral', 'neutral', 'negative', 'negative', 'negative', 'positive', 'negative', 'neutral', 'neutral', 'neutral', 'negative', 'positive', 'positive', 'negative', 'neutral', 'positive', 'negative', 'negative', 'negative', 'neutral', 'neutral', 'negative', 'negative', 'positive', 'negative', 'negative', 'negative', 'neutral', 'negative', 'negative', 'positive', 'neutral', 'neutral', 'positive']\n"
     ]
    }
   ],
   "source": [
    "import numpy as np\n",
    "pred_class = []\n",
    "for item in Y_pred:\n",
    "  index = np.argmax(item)\n",
    "  pred_class.append(classes[index])\n",
    "  #pred_class.append(index)\n",
    "\n",
    "print(pred_class)"
   ]
  },
  {
   "cell_type": "code",
   "execution_count": 86,
   "id": "43376e67",
   "metadata": {},
   "outputs": [
    {
     "name": "stdout",
     "output_type": "stream",
     "text": [
      "359/359 - 20s - loss: 0.1501 - accuracy: 0.9269 - 20s/epoch - 55ms/step\n",
      "\n",
      " Training Accuracy : 0.9268717765808105 \n",
      "\n",
      "120/120 - 7s - loss: 1.7418 - accuracy: 0.6230 - 7s/epoch - 55ms/step\n",
      "\n",
      " Testing Accuracy : 0.6230065226554871\n"
     ]
    }
   ],
   "source": [
    "print(\"\\n Training Accuracy :\" , model.evaluate(X_train, Y_train  , verbose = 2)[1] ,\"\\n\")\n",
    "print(\"\\n Testing Accuracy :\" , model.evaluate(X_test, Y_test , verbose = 2)[1] )"
   ]
  },
  {
   "cell_type": "code",
   "execution_count": 89,
   "id": "6dd75e6e",
   "metadata": {},
   "outputs": [
    {
     "name": "stdout",
     "output_type": "stream",
     "text": [
      "                     text\n",
      "0            nannayittund\n",
      "1                    myru\n",
      "2                  kollam\n",
      "3  iyalkk nanamille myran\n"
     ]
    }
   ],
   "source": [
    "dx=[\"nannayittund\",\"myru\",\"kollam\",\"iyalkk nanamille myran\"]\n",
    "df = pd.DataFrame(dx, columns=['text'])\n",
    "print(df)"
   ]
  },
  {
   "cell_type": "code",
   "execution_count": 90,
   "id": "92190449",
   "metadata": {},
   "outputs": [
    {
     "name": "stdout",
     "output_type": "stream",
     "text": [
      "[[0 0 1]\n",
      " [0 0 2]]\n",
      "4\n"
     ]
    }
   ],
   "source": [
    "from keras.preprocessing.text import Tokenizer\n",
    "#from keras.preprocessing.sequence import pad_sequences\n",
    "from keras.utils.data_utils import pad_sequences\n",
    "\n",
    "\n",
    "max_features = 1500\n",
    "tokenizer = Tokenizer(num_words=max_features, split=' ')\n",
    "tokenizer.fit_on_texts(df['text'].values)\n",
    "X1= tokenizer.texts_to_sequences(df['text'].values)\n",
    "X1= pad_sequences(X1)\n",
    "print(X1[:2])\n",
    "print(len(X1))"
   ]
  },
  {
   "cell_type": "code",
   "execution_count": 93,
   "id": "214df93b",
   "metadata": {},
   "outputs": [
    {
     "name": "stdout",
     "output_type": "stream",
     "text": [
      "1/1 [==============================] - 1s 862ms/step\n"
     ]
    }
   ],
   "source": [
    "Y1=model.predict(X1)"
   ]
  },
  {
   "cell_type": "markdown",
   "id": "8ba6a8b7",
   "metadata": {},
   "source": []
  },
  {
   "cell_type": "code",
   "execution_count": 94,
   "id": "68d7a1ee",
   "metadata": {},
   "outputs": [
    {
     "name": "stdout",
     "output_type": "stream",
     "text": [
      "['negative', 'negative', 'neutral', 'positive']\n"
     ]
    }
   ],
   "source": [
    "import numpy as np\n",
    "pred_class = []\n",
    "for item in Y1:\n",
    "  index = np.argmax(item)\n",
    "  pred_class.append(classes[index])\n",
    "  #pred_class.append(index)\n",
    "\n",
    "print(pred_class)"
   ]
  },
  {
   "cell_type": "code",
   "execution_count": 79,
   "id": "7b76f357",
   "metadata": {},
   "outputs": [
    {
     "name": "stdout",
     "output_type": "stream",
     "text": [
      "              precision    recall  f1-score   support\n",
      "\n",
      "    negative       0.67      0.60      0.63      1378\n",
      "     neutral       0.53      0.54      0.53      1273\n",
      "    positive       0.69      0.77      0.73      1174\n",
      "\n",
      "    accuracy                           0.63      3825\n",
      "   macro avg       0.63      0.63      0.63      3825\n",
      "weighted avg       0.63      0.63      0.63      3825\n",
      "\n"
     ]
    }
   ],
   "source": [
    "from sklearn.metrics import classification_report\n",
    "print(classification_report(pred_class,test_data['target']))"
   ]
  }
 ],
 "metadata": {
  "kernelspec": {
   "display_name": "Python 3 (ipykernel)",
   "language": "python",
   "name": "python3"
  },
  "language_info": {
   "codemirror_mode": {
    "name": "ipython",
    "version": 3
   },
   "file_extension": ".py",
   "mimetype": "text/x-python",
   "name": "python",
   "nbconvert_exporter": "python",
   "pygments_lexer": "ipython3",
   "version": "3.8.10"
  }
 },
 "nbformat": 4,
 "nbformat_minor": 5
}
