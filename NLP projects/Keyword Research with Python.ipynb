{
 "cells": [
  {
   "cell_type": "markdown",
   "id": "6e6901df",
   "metadata": {},
   "source": [
    "Google Trends is a keyword research tool that helps the researchers, bloggers, digital marketers and some more people in the digital industry to find how often a keyword is entered into Google search engine over a given period. Google Trends is used for keyword research mostly is writing articles on hot topics. In this article, I’ll walk you through how to perform keyword research with python to find the hottest topics and keywords.\n"
   ]
  },
  {
   "cell_type": "markdown",
   "id": "9fa06064",
   "metadata": {},
   "source": [
    "Use the Google API to access Google trends which can be done by using the pytrends library in python. Python being a general-purpose programming language provides libraries and packages for almost every task. pytrends can be installed by using the pip command – pip install pytrends. "
   ]
  },
  {
   "cell_type": "markdown",
   "id": "0bc23480",
   "metadata": {},
   "source": [
    "### Keyword Research with Python\n",
    "\n",
    "You need to log in to Google first because, after all, we ask Google Trends for trending topics. For that, we need to import the method called TrendReq from the pytrends.request method:"
   ]
  },
  {
   "cell_type": "code",
   "execution_count": null,
   "id": "c0f61dec",
   "metadata": {},
   "outputs": [],
   "source": [
    "import pandas as pd\n",
    "from pytrends.request import TrendReq\n",
    "import matplotlib.pyplot as plt\n",
    "trends = TrendReq()"
   ]
  },
  {
   "cell_type": "markdown",
   "id": "0dfd3aed",
   "metadata": {},
   "source": [
    "Keyword Interest By Region\n",
    "\n",
    "Let’s see the terms that are popular in the region around the world say “Data Science”:"
   ]
  },
  {
   "cell_type": "code",
   "execution_count": null,
   "id": "58e719b8",
   "metadata": {},
   "outputs": [],
   "source": [
    "trends.build_payload(kw_list=[\"Data Science\"])\n",
    "data = trends.interest_by_region()\n",
    "print(data.sample(10))"
   ]
  },
  {
   "cell_type": "markdown",
   "id": "6cdf3e37",
   "metadata": {},
   "source": [
    "Values ​​are calculated on a scale of 0 to 100, where 100 is the most popular location as a fraction of the total searches for that location, a value of 50 indicates a location half as popular. Now let’s visualize the above search results to get better insights:"
   ]
  },
  {
   "cell_type": "code",
   "execution_count": null,
   "id": "14b9c630",
   "metadata": {},
   "outputs": [],
   "source": [
    "df = data.sample(15)\n",
    "df.reset_index().plot(x=\"geoName\", y=\"Data Science\", figsize=(120,16), kind=\"bar\")\n",
    "plt.show()"
   ]
  },
  {
   "cell_type": "markdown",
   "id": "876a1141",
   "metadata": {},
   "source": [
    "### Keyword Research with Python for Daily Search Trends\n",
    "\n",
    "Now let’s take a look at the top daily search trends around the world. To do this, we need to use the trending_searches () method:"
   ]
  },
  {
   "cell_type": "code",
   "execution_count": null,
   "id": "cbb67cef",
   "metadata": {},
   "outputs": [],
   "source": [
    "data = trends.trending_searches(pn=\"india\")\n",
    "print(data.head(10))"
   ]
  },
  {
   "cell_type": "markdown",
   "id": "88677242",
   "metadata": {},
   "source": [
    "Google Keyword Suggestion\n",
    "\n",
    "Now, let’s see how we can get the google keywords suggestion for keyword research with python. Keywords are those words that are mostly typed by users in the search engine to find about a particular topic:\n",
    "\n"
   ]
  },
  {
   "cell_type": "code",
   "execution_count": null,
   "id": "9e5729c0",
   "metadata": {},
   "outputs": [],
   "source": [
    "keyword = trends.suggestions(keyword=\"Programming\")\n",
    "data = pd.DataFrame(keyword)\n",
    "print(data.head())"
   ]
  },
  {
   "cell_type": "code",
   "execution_count": null,
   "id": "5e1c8e82",
   "metadata": {},
   "outputs": [],
   "source": []
  },
  {
   "cell_type": "code",
   "execution_count": null,
   "id": "da16294b",
   "metadata": {},
   "outputs": [],
   "source": []
  },
  {
   "cell_type": "code",
   "execution_count": null,
   "id": "d789be93",
   "metadata": {},
   "outputs": [],
   "source": []
  },
  {
   "cell_type": "code",
   "execution_count": null,
   "id": "257896b7",
   "metadata": {},
   "outputs": [],
   "source": []
  },
  {
   "cell_type": "code",
   "execution_count": null,
   "id": "c84b8908",
   "metadata": {},
   "outputs": [],
   "source": []
  }
 ],
 "metadata": {
  "kernelspec": {
   "display_name": "Python 3 (ipykernel)",
   "language": "python",
   "name": "python3"
  },
  "language_info": {
   "codemirror_mode": {
    "name": "ipython",
    "version": 3
   },
   "file_extension": ".py",
   "mimetype": "text/x-python",
   "name": "python",
   "nbconvert_exporter": "python",
   "pygments_lexer": "ipython3",
   "version": "3.8.10"
  }
 },
 "nbformat": 4,
 "nbformat_minor": 5
}
